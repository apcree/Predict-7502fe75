{
 "cells": [
  {
   "attachments": {},
   "cell_type": "markdown",
   "metadata": {},
   "source": [
    "# Create a Training Data set of all property records and sales transactions for Hermit Park\n",
    "\n",
    "Create the dataframe with the property features.\n",
    "Create the dataframe with all the sales transactions.\n",
    "\n",
    "## Property Features Dataframe\n",
    "\n",
    "* Import the features.\n",
    "* Drop non-essential columns.\n",
    "* Create rppid identifier column\n",
    "* Create rppid column in Sales Transactions dataframe\n",
    "* Merge in feature columns from Sales Transactions dataframe\n",
    "\n",
    "## Sales Transactions Dataframe\n",
    "\n",
    "* remove features columns\n",
    "* drop non-essential columns\n",
    "* merge in features from Property Features dataframe"
   ]
  },
  {
   "cell_type": "code",
   "execution_count": 1,
   "metadata": {},
   "outputs": [
    {
     "name": "stderr",
     "output_type": "stream",
     "text": [
      "2023-04-08 19:03:51.073091: I tensorflow/tsl/cuda/cudart_stub.cc:28] Could not find cuda drivers on your machine, GPU will not be used.\n",
      "2023-04-08 19:03:51.125011: I tensorflow/tsl/cuda/cudart_stub.cc:28] Could not find cuda drivers on your machine, GPU will not be used.\n",
      "2023-04-08 19:03:51.126093: I tensorflow/core/platform/cpu_feature_guard.cc:182] This TensorFlow binary is optimized to use available CPU instructions in performance-critical operations.\n",
      "To enable the following instructions: AVX2 FMA, in other operations, rebuild TensorFlow with the appropriate compiler flags.\n",
      "2023-04-08 19:03:52.051000: W tensorflow/compiler/tf2tensorrt/utils/py_utils.cc:38] TF-TRT Warning: Could not find TensorRT\n"
     ]
    },
    {
     "name": "stdout",
     "output_type": "stream",
     "text": [
      "TensorFlow v2.12.0\n",
      "TensorFlow Decision Forests v1.3.0\n"
     ]
    }
   ],
   "source": [
    "import tensorflow as tf\n",
    "import tensorflow_decision_forests as tfdf\n",
    "import pandas as pd\n",
    "import seaborn as sns\n",
    "import matplotlib.pyplot as plt\n",
    "import numpy as np\n",
    "\n",
    "print(\"TensorFlow v\" + tf.__version__)\n",
    "print(\"TensorFlow Decision Forests v\" + tfdf.__version__)"
   ]
  },
  {
   "cell_type": "code",
   "execution_count": 8,
   "metadata": {},
   "outputs": [
    {
     "name": "stdout",
     "output_type": "stream",
     "text": [
      "Full features dataset shape is (1626, 41)\n",
      "<class 'pandas.core.frame.DataFrame'>\n",
      "RangeIndex: 1626 entries, 0 to 1625\n",
      "Data columns (total 41 columns):\n",
      " #   Column                  Non-Null Count  Dtype  \n",
      "---  ------                  --------------  -----  \n",
      " 0   Street Address          1626 non-null   object \n",
      " 1   Suburb                  1626 non-null   object \n",
      " 2   State                   1626 non-null   object \n",
      " 3   Postcode                1626 non-null   int64  \n",
      " 4   Property Type/Category  1626 non-null   object \n",
      " 5   Bed                     1626 non-null   int64  \n",
      " 6   Bath                    1626 non-null   int64  \n",
      " 7   Car                     1626 non-null   int64  \n",
      " 8   Land Size               1626 non-null   int64  \n",
      " 9   Building Area           1626 non-null   float64\n",
      " 10  Sale Price              1626 non-null   object \n",
      " 11  Sale Date               1384 non-null   object \n",
      " 12  Settlement Date         1360 non-null   object \n",
      " 13  Sale Type               1384 non-null   object \n",
      " 14  Agency                  840 non-null    object \n",
      " 15  Agent                   616 non-null    object \n",
      " 16  Improve/Improvement     0 non-null      float64\n",
      " 17  Construction            0 non-null      float64\n",
      " 18  Land Use 1              1553 non-null   object \n",
      " 19  Zoning                  1543 non-null   object \n",
      " 20  Development Zone        1533 non-null   object \n",
      " 21  Primary plan/Lot Plan   1558 non-null   object \n",
      " 22  RPD                     1558 non-null   object \n",
      " 23  Valuation No            1613 non-null   float64\n",
      " 24  Valuation Type          1626 non-null   object \n",
      " 25  Valuation Amount        1626 non-null   object \n",
      " 26  Valuation Date          1067 non-null   object \n",
      " 27  Owner 1 Name            1613 non-null   object \n",
      " 28  Owner 1 Address         1613 non-null   object \n",
      " 29  Owner 2 Name            612 non-null    object \n",
      " 30  Owner 2 Address         612 non-null    object \n",
      " 31  Owner 3 Name            10 non-null     object \n",
      " 32  Owner 3 Address         10 non-null     object \n",
      " 33  Vendor 1 Name           1325 non-null   object \n",
      " 34  Vendor 1 Address        1306 non-null   object \n",
      " 35  Vendor 2 Name           602 non-null    object \n",
      " 36  Vendor 2 Address        596 non-null    object \n",
      " 37  Vendor 3 Name           35 non-null     object \n",
      " 38  Vendor 3 Address        35 non-null     object \n",
      " 39  Relationship            63 non-null     object \n",
      " 40  Open in RPP             1626 non-null   object \n",
      "dtypes: float64(4), int64(5), object(32)\n",
      "memory usage: 521.0+ KB\n"
     ]
    }
   ],
   "source": [
    "# import features dataset\n",
    "sales_file_path = \"input/HERMPARK_training_data.csv\"\n",
    "features_df = pd.read_csv(sales_file_path)\n",
    "print(\"Full features dataset shape is {}\".format(features_df.shape))\n",
    "features_df.info()"
   ]
  },
  {
   "cell_type": "code",
   "execution_count": 9,
   "metadata": {},
   "outputs": [
    {
     "name": "stdout",
     "output_type": "stream",
     "text": [
      "<class 'pandas.core.frame.DataFrame'>\n",
      "RangeIndex: 1626 entries, 0 to 1625\n",
      "Data columns (total 32 columns):\n",
      " #   Column                 Non-Null Count  Dtype  \n",
      "---  ------                 --------------  -----  \n",
      " 0   Bed                    1626 non-null   int64  \n",
      " 1   Bath                   1626 non-null   int64  \n",
      " 2   Car                    1626 non-null   int64  \n",
      " 3   Land Size              1626 non-null   int64  \n",
      " 4   Building Area          1626 non-null   float64\n",
      " 5   Sale Price             1626 non-null   object \n",
      " 6   Sale Date              1384 non-null   object \n",
      " 7   Sale Type              1384 non-null   object \n",
      " 8   Land Use 1             1553 non-null   object \n",
      " 9   Zoning                 1543 non-null   object \n",
      " 10  Development Zone       1533 non-null   object \n",
      " 11  Primary plan/Lot Plan  1558 non-null   object \n",
      " 12  RPD                    1558 non-null   object \n",
      " 13  Valuation No           1613 non-null   float64\n",
      " 14  Valuation Type         1626 non-null   object \n",
      " 15  Valuation Amount       1626 non-null   object \n",
      " 16  Valuation Date         1067 non-null   object \n",
      " 17  Owner 1 Name           1613 non-null   object \n",
      " 18  Owner 1 Address        1613 non-null   object \n",
      " 19  Owner 2 Name           612 non-null    object \n",
      " 20  Owner 2 Address        612 non-null    object \n",
      " 21  Owner 3 Name           10 non-null     object \n",
      " 22  Owner 3 Address        10 non-null     object \n",
      " 23  Vendor 1 Name          1325 non-null   object \n",
      " 24  Vendor 1 Address       1306 non-null   object \n",
      " 25  Vendor 2 Name          602 non-null    object \n",
      " 26  Vendor 2 Address       596 non-null    object \n",
      " 27  Vendor 3 Name          35 non-null     object \n",
      " 28  Vendor 3 Address       35 non-null     object \n",
      " 29  Relationship           63 non-null     object \n",
      " 30  Open in RPP            1626 non-null   object \n",
      " 31  rppid                  1626 non-null   object \n",
      "dtypes: float64(2), int64(4), object(26)\n",
      "memory usage: 406.6+ KB\n"
     ]
    }
   ],
   "source": [
    "# create rppid column\n",
    "features_df['rppid'] = features_df['Open in RPP'].map(lambda x: x.strip('https://rpp.rpdata.com/rpp/property/detail.html?propertyId='))\n",
    "\n",
    "\n",
    "# drop non-essential columns\n",
    "features_df = features_df.drop(['Street Address','Suburb','State','Postcode','Property Type/Category','Settlement Date', 'Agency','Agent','Improve/Improvement','Construction'], axis=1)\n",
    "\n",
    "features_df.info()"
   ]
  },
  {
   "cell_type": "code",
   "execution_count": 5,
   "metadata": {},
   "outputs": [
    {
     "name": "stdout",
     "output_type": "stream",
     "text": [
      "Full transactions dataset shape is (1073, 28)\n",
      "<class 'pandas.core.frame.DataFrame'>\n",
      "RangeIndex: 1073 entries, 0 to 1072\n",
      "Data columns (total 28 columns):\n",
      " #   Column            Non-Null Count  Dtype \n",
      "---  ------            --------------  ----- \n",
      " 0   Street Address    1073 non-null   object\n",
      " 1   Suburb            1073 non-null   object\n",
      " 2   State             1073 non-null   object\n",
      " 3   Postcode          1073 non-null   int64 \n",
      " 4   Property Type     1073 non-null   object\n",
      " 5   Bed               1073 non-null   object\n",
      " 6   Bath              1073 non-null   object\n",
      " 7   Car               1073 non-null   object\n",
      " 8   Land Size (m²)    1073 non-null   object\n",
      " 9   Floor Size (m²)   1073 non-null   object\n",
      " 10  Year Built        1073 non-null   object\n",
      " 11  Sale Price        1073 non-null   object\n",
      " 12  Sale Date         1073 non-null   object\n",
      " 13  Settlement Date   1073 non-null   object\n",
      " 14  Sale Type         1073 non-null   object\n",
      " 15  Agency            1073 non-null   object\n",
      " 16  Agent             1073 non-null   object\n",
      " 17  Land Use          1073 non-null   object\n",
      " 18  Development Zone  1073 non-null   object\n",
      " 19  Parcel Details    1073 non-null   object\n",
      " 20  Owner 1 Name      1073 non-null   object\n",
      " 21  Owner 2 Name      1073 non-null   object\n",
      " 22  Owner 3 Name      1073 non-null   object\n",
      " 23  Owner Type        1073 non-null   object\n",
      " 24  Vendor 1 Name     1073 non-null   object\n",
      " 25  Vendor 2 Name     1073 non-null   object\n",
      " 26  Vendor 3 Name     1073 non-null   object\n",
      " 27  Open in RPData    1073 non-null   object\n",
      "dtypes: int64(1), object(27)\n",
      "memory usage: 234.8+ KB\n"
     ]
    }
   ],
   "source": [
    "# import features dataset\n",
    "train_file_path = \"input/HERMPARK_training_hsales.csv\"\n",
    "features_df = pd.read_csv(train_file_path)\n",
    "print(\"Full transactions dataset shape is {}\".format(features_df.shape))\n",
    "features_df.info()"
   ]
  }
 ],
 "metadata": {
  "kernelspec": {
   "display_name": "Python 3",
   "language": "python",
   "name": "python3"
  },
  "language_info": {
   "codemirror_mode": {
    "name": "ipython",
    "version": 3
   },
   "file_extension": ".py",
   "mimetype": "text/x-python",
   "name": "python",
   "nbconvert_exporter": "python",
   "pygments_lexer": "ipython3",
   "version": "3.10.6"
  },
  "orig_nbformat": 4
 },
 "nbformat": 4,
 "nbformat_minor": 2
}
