{
 "cells": [
  {
   "attachments": {},
   "cell_type": "markdown",
   "id": "689c8ebd",
   "metadata": {
    "id": "5v5mm4amQRrm",
    "papermill": {
     "duration": 0.016388,
     "end_time": "2023-03-17T11:57:07.006940",
     "exception": false,
     "start_time": "2023-03-17T11:57:06.990552",
     "status": "completed"
    },
    "tags": []
   },
   "source": [
    "# House Prices Prediction using TensorFlow Decision Forests\n",
    "* Source: https://www.kaggle.com/code/gusthema/house-prices-prediction-using-tfdf"
   ]
  },
  {
   "cell_type": "markdown",
   "id": "a5a783a0",
   "metadata": {
    "id": "Z4eo3rH_MKbC",
    "papermill": {
     "duration": 0.011717,
     "end_time": "2023-03-17T11:57:07.030659",
     "exception": false,
     "start_time": "2023-03-17T11:57:07.018942",
     "status": "completed"
    },
    "tags": []
   },
   "source": [
    "Decision Forests are a family of tree-based models including Random Forests and Gradient Boosted Trees. They are the best place to start when working with tabular data, and will often outperform (or provide a strong baseline) before you begin experimenting with neural networks.\n",
    "\n",
    "This notebook will take you through the steps needed to train a baseline Random Forest Model using TensorFlow Decision Forests on the House Prices dataset made available for this competition. We will load the data from a CSV file. Roughly, the code will look as follows:\n",
    "\n",
    "```\n",
    "import tensorflow_decision_forests as tfdf\n",
    "import pandas as pd\n",
    "\n",
    "dataset = pd.read_csv(\"project/dataset.csv\")\n",
    "tf_dataset = tfdf.keras.pd_dataframe_to_tf_dataset(dataset, label=\"my_label\")\n",
    "\n",
    "model = tfdf.keras.RandomForestModel()\n",
    "model.fit(tf_dataset)\n",
    "\n",
    "print(model.summary())\n",
    "```"
   ]
  },
  {
   "cell_type": "markdown",
   "id": "c156f01c",
   "metadata": {
    "id": "FVOXAyXl3-fA",
    "papermill": {
     "duration": 0.012502,
     "end_time": "2023-03-17T11:57:07.058205",
     "exception": false,
     "start_time": "2023-03-17T11:57:07.045703",
     "status": "completed"
    },
    "tags": []
   },
   "source": [
    "## Import the library"
   ]
  },
  {
   "cell_type": "code",
   "execution_count": 1,
   "id": "de5749d9",
   "metadata": {
    "execution": {
     "iopub.execute_input": "2023-03-17T11:57:07.087065Z",
     "iopub.status.busy": "2023-03-17T11:57:07.086169Z",
     "iopub.status.idle": "2023-03-17T11:57:15.763079Z",
     "shell.execute_reply": "2023-03-17T11:57:15.761501Z"
    },
    "id": "IGmyjJJatzBZ",
    "papermill": {
     "duration": 8.696696,
     "end_time": "2023-03-17T11:57:15.766021",
     "exception": false,
     "start_time": "2023-03-17T11:57:07.069325",
     "status": "completed"
    },
    "tags": []
   },
   "outputs": [
    {
     "name": "stderr",
     "output_type": "stream",
     "text": [
      "2023-06-11 11:12:27.098840: I tensorflow/tsl/cuda/cudart_stub.cc:28] Could not find cuda drivers on your machine, GPU will not be used.\n",
      "2023-06-11 11:12:27.150484: I tensorflow/tsl/cuda/cudart_stub.cc:28] Could not find cuda drivers on your machine, GPU will not be used.\n",
      "2023-06-11 11:12:27.152166: I tensorflow/core/platform/cpu_feature_guard.cc:182] This TensorFlow binary is optimized to use available CPU instructions in performance-critical operations.\n",
      "To enable the following instructions: AVX2 FMA, in other operations, rebuild TensorFlow with the appropriate compiler flags.\n",
      "2023-06-11 11:12:28.071429: W tensorflow/compiler/tf2tensorrt/utils/py_utils.cc:38] TF-TRT Warning: Could not find TensorRT\n"
     ]
    }
   ],
   "source": [
    "import tensorflow as tf\n",
    "import tensorflow_decision_forests as tfdf\n",
    "import pandas as pd\n",
    "import seaborn as sns\n",
    "import matplotlib.pyplot as plt\n",
    "import numpy as np\n",
    "\n",
    "# Comment this if the data visualisations doesn't work on your side\n",
    "# %matplotlib inline"
   ]
  },
  {
   "cell_type": "code",
   "execution_count": 2,
   "id": "22f72ad8",
   "metadata": {
    "execution": {
     "iopub.execute_input": "2023-03-17T11:57:15.789713Z",
     "iopub.status.busy": "2023-03-17T11:57:15.788997Z",
     "iopub.status.idle": "2023-03-17T11:57:15.795103Z",
     "shell.execute_reply": "2023-03-17T11:57:15.794312Z"
    },
    "id": "dh4qwB4iN7Ue",
    "papermill": {
     "duration": 0.021074,
     "end_time": "2023-03-17T11:57:15.797897",
     "exception": false,
     "start_time": "2023-03-17T11:57:15.776823",
     "status": "completed"
    },
    "tags": []
   },
   "outputs": [
    {
     "name": "stdout",
     "output_type": "stream",
     "text": [
      "TensorFlow v2.12.0\n",
      "TensorFlow Decision Forests v1.3.0\n"
     ]
    }
   ],
   "source": [
    "print(\"TensorFlow v\" + tf.__version__)\n",
    "print(\"TensorFlow Decision Forests v\" + tfdf.__version__)"
   ]
  },
  {
   "cell_type": "markdown",
   "id": "7c9cb9ca",
   "metadata": {
    "id": "-3vxMmCPvqpf",
    "papermill": {
     "duration": 0.010185,
     "end_time": "2023-03-17T11:57:15.818629",
     "exception": false,
     "start_time": "2023-03-17T11:57:15.808444",
     "status": "completed"
    },
    "tags": []
   },
   "source": [
    "## Load the dataset\n"
   ]
  },
  {
   "cell_type": "code",
   "execution_count": 3,
   "id": "d8fbe660",
   "metadata": {
    "execution": {
     "iopub.execute_input": "2023-03-17T11:57:15.842010Z",
     "iopub.status.busy": "2023-03-17T11:57:15.841286Z",
     "iopub.status.idle": "2023-03-17T11:57:15.883611Z",
     "shell.execute_reply": "2023-03-17T11:57:15.881355Z"
    },
    "id": "JVMPH_IDOBH2",
    "papermill": {
     "duration": 0.058835,
     "end_time": "2023-03-17T11:57:15.887820",
     "exception": false,
     "start_time": "2023-03-17T11:57:15.828985",
     "status": "completed"
    },
    "tags": []
   },
   "outputs": [
    {
     "name": "stdout",
     "output_type": "stream",
     "text": [
      "Full train dataset shape is (1626, 41)\n"
     ]
    }
   ],
   "source": [
    "train_file_path = \"input/HERMPARK_training_data.csv\"\n",
    "dataset_df = pd.read_csv(train_file_path)\n",
    "print(\"Full train dataset shape is {}\".format(dataset_df.shape))"
   ]
  },
  {
   "attachments": {},
   "cell_type": "markdown",
   "id": "d319d47d",
   "metadata": {},
   "source": [
    "Load the historical sales dataset"
   ]
  },
  {
   "cell_type": "code",
   "execution_count": 4,
   "id": "df15bfd9",
   "metadata": {},
   "outputs": [
    {
     "name": "stdout",
     "output_type": "stream",
     "text": [
      "Full historical sales dataset shape is (1073, 28)\n"
     ]
    }
   ],
   "source": [
    "hsale_file_path = \"input/HERMPARK_training_hsales.csv\"\n",
    "hsales_df = pd.read_csv(hsale_file_path)\n",
    "print(\"Full historical sales dataset shape is {}\".format(hsales_df.shape))"
   ]
  },
  {
   "attachments": {},
   "cell_type": "markdown",
   "id": "5a5d3a72",
   "metadata": {
    "id": "mTnx8h9i416m",
    "papermill": {
     "duration": 0.011096,
     "end_time": "2023-03-17T11:57:15.909923",
     "exception": false,
     "start_time": "2023-03-17T11:57:15.898827",
     "status": "completed"
    },
    "tags": []
   },
   "source": [
    "The data is composed of 37 columns and 1619 entries. We can see all 37 dimensions of our dataset by printing out the first 3 entries using the following code:"
   ]
  },
  {
   "cell_type": "code",
   "execution_count": 5,
   "id": "ce210d8c",
   "metadata": {
    "execution": {
     "iopub.execute_input": "2023-03-17T11:57:15.934337Z",
     "iopub.status.busy": "2023-03-17T11:57:15.933410Z",
     "iopub.status.idle": "2023-03-17T11:57:15.975004Z",
     "shell.execute_reply": "2023-03-17T11:57:15.973968Z"
    },
    "id": "kgbP5R6X416m",
    "papermill": {
     "duration": 0.056671,
     "end_time": "2023-03-17T11:57:15.977304",
     "exception": false,
     "start_time": "2023-03-17T11:57:15.920633",
     "status": "completed"
    },
    "tags": []
   },
   "outputs": [
    {
     "data": {
      "text/html": [
       "<div>\n",
       "<style scoped>\n",
       "    .dataframe tbody tr th:only-of-type {\n",
       "        vertical-align: middle;\n",
       "    }\n",
       "\n",
       "    .dataframe tbody tr th {\n",
       "        vertical-align: top;\n",
       "    }\n",
       "\n",
       "    .dataframe thead th {\n",
       "        text-align: right;\n",
       "    }\n",
       "</style>\n",
       "<table border=\"1\" class=\"dataframe\">\n",
       "  <thead>\n",
       "    <tr style=\"text-align: right;\">\n",
       "      <th></th>\n",
       "      <th>Street Address</th>\n",
       "      <th>Suburb</th>\n",
       "      <th>State</th>\n",
       "      <th>Postcode</th>\n",
       "      <th>Property Type/Category</th>\n",
       "      <th>Bed</th>\n",
       "      <th>Bath</th>\n",
       "      <th>Car</th>\n",
       "      <th>Land Size</th>\n",
       "      <th>Building Area</th>\n",
       "      <th>...</th>\n",
       "      <th>Owner 3 Name</th>\n",
       "      <th>Owner 3 Address</th>\n",
       "      <th>Vendor 1 Name</th>\n",
       "      <th>Vendor 1 Address</th>\n",
       "      <th>Vendor 2 Name</th>\n",
       "      <th>Vendor 2 Address</th>\n",
       "      <th>Vendor 3 Name</th>\n",
       "      <th>Vendor 3 Address</th>\n",
       "      <th>Relationship</th>\n",
       "      <th>Open in RPP</th>\n",
       "    </tr>\n",
       "  </thead>\n",
       "  <tbody>\n",
       "    <tr>\n",
       "      <th>0</th>\n",
       "      <td>1 Ackers Street</td>\n",
       "      <td>Hermit Park</td>\n",
       "      <td>QLD</td>\n",
       "      <td>4812</td>\n",
       "      <td>House</td>\n",
       "      <td>3</td>\n",
       "      <td>2</td>\n",
       "      <td>0</td>\n",
       "      <td>809</td>\n",
       "      <td>0.0</td>\n",
       "      <td>...</td>\n",
       "      <td>NaN</td>\n",
       "      <td>NaN</td>\n",
       "      <td>Shannean Ellen Ruszieta Moncrieff</td>\n",
       "      <td>C/- LEE TURNBULL &amp; CO PO BOX 1920, TOWNSVILLE ...</td>\n",
       "      <td>Russell James Moncrieff</td>\n",
       "      <td>C/- LEE TURNBULL &amp; CO PO BOX 1920, TOWNSVILLE ...</td>\n",
       "      <td>NaN</td>\n",
       "      <td>NaN</td>\n",
       "      <td>NaN</td>\n",
       "      <td>https://rpp.rpdata.com/rpp/property/detail.htm...</td>\n",
       "    </tr>\n",
       "    <tr>\n",
       "      <th>1</th>\n",
       "      <td>1/2-12 Ackers Street</td>\n",
       "      <td>Hermit Park</td>\n",
       "      <td>QLD</td>\n",
       "      <td>4812</td>\n",
       "      <td>Unit</td>\n",
       "      <td>3</td>\n",
       "      <td>1</td>\n",
       "      <td>2</td>\n",
       "      <td>462</td>\n",
       "      <td>0.0</td>\n",
       "      <td>...</td>\n",
       "      <td>NaN</td>\n",
       "      <td>NaN</td>\n",
       "      <td>NaN</td>\n",
       "      <td>NaN</td>\n",
       "      <td>NaN</td>\n",
       "      <td>NaN</td>\n",
       "      <td>NaN</td>\n",
       "      <td>NaN</td>\n",
       "      <td>NaN</td>\n",
       "      <td>https://rpp.rpdata.com/rpp/property/detail.htm...</td>\n",
       "    </tr>\n",
       "    <tr>\n",
       "      <th>2</th>\n",
       "      <td>7 Ackers Street</td>\n",
       "      <td>Hermit Park</td>\n",
       "      <td>QLD</td>\n",
       "      <td>4812</td>\n",
       "      <td>Unit</td>\n",
       "      <td>0</td>\n",
       "      <td>0</td>\n",
       "      <td>0</td>\n",
       "      <td>809</td>\n",
       "      <td>0.0</td>\n",
       "      <td>...</td>\n",
       "      <td>NaN</td>\n",
       "      <td>NaN</td>\n",
       "      <td>NaN</td>\n",
       "      <td>NaN</td>\n",
       "      <td>NaN</td>\n",
       "      <td>NaN</td>\n",
       "      <td>NaN</td>\n",
       "      <td>NaN</td>\n",
       "      <td>NaN</td>\n",
       "      <td>https://rpp.rpdata.com/rpp/property/detail.htm...</td>\n",
       "    </tr>\n",
       "  </tbody>\n",
       "</table>\n",
       "<p>3 rows × 41 columns</p>\n",
       "</div>"
      ],
      "text/plain": [
       "         Street Address       Suburb State  Postcode Property Type/Category  \\\n",
       "0       1 Ackers Street  Hermit Park   QLD      4812                  House   \n",
       "1  1/2-12 Ackers Street  Hermit Park   QLD      4812                   Unit   \n",
       "2       7 Ackers Street  Hermit Park   QLD      4812                   Unit   \n",
       "\n",
       "   Bed  Bath  Car  Land Size  Building Area  ... Owner 3 Name Owner 3 Address  \\\n",
       "0    3     2    0        809            0.0  ...          NaN             NaN   \n",
       "1    3     1    2        462            0.0  ...          NaN             NaN   \n",
       "2    0     0    0        809            0.0  ...          NaN             NaN   \n",
       "\n",
       "                       Vendor 1 Name  \\\n",
       "0  Shannean Ellen Ruszieta Moncrieff   \n",
       "1                                NaN   \n",
       "2                                NaN   \n",
       "\n",
       "                                    Vendor 1 Address            Vendor 2 Name  \\\n",
       "0  C/- LEE TURNBULL & CO PO BOX 1920, TOWNSVILLE ...  Russell James Moncrieff   \n",
       "1                                                NaN                      NaN   \n",
       "2                                                NaN                      NaN   \n",
       "\n",
       "                                    Vendor 2 Address  Vendor 3 Name  \\\n",
       "0  C/- LEE TURNBULL & CO PO BOX 1920, TOWNSVILLE ...            NaN   \n",
       "1                                                NaN            NaN   \n",
       "2                                                NaN            NaN   \n",
       "\n",
       "   Vendor 3 Address Relationship  \\\n",
       "0               NaN          NaN   \n",
       "1               NaN          NaN   \n",
       "2               NaN          NaN   \n",
       "\n",
       "                                         Open in RPP  \n",
       "0  https://rpp.rpdata.com/rpp/property/detail.htm...  \n",
       "1  https://rpp.rpdata.com/rpp/property/detail.htm...  \n",
       "2  https://rpp.rpdata.com/rpp/property/detail.htm...  \n",
       "\n",
       "[3 rows x 41 columns]"
      ]
     },
     "execution_count": 5,
     "metadata": {},
     "output_type": "execute_result"
    }
   ],
   "source": [
    "dataset_df.head(3)"
   ]
  },
  {
   "cell_type": "code",
   "execution_count": 6,
   "id": "5a155ec3",
   "metadata": {},
   "outputs": [
    {
     "data": {
      "text/html": [
       "<div>\n",
       "<style scoped>\n",
       "    .dataframe tbody tr th:only-of-type {\n",
       "        vertical-align: middle;\n",
       "    }\n",
       "\n",
       "    .dataframe tbody tr th {\n",
       "        vertical-align: top;\n",
       "    }\n",
       "\n",
       "    .dataframe thead th {\n",
       "        text-align: right;\n",
       "    }\n",
       "</style>\n",
       "<table border=\"1\" class=\"dataframe\">\n",
       "  <thead>\n",
       "    <tr style=\"text-align: right;\">\n",
       "      <th></th>\n",
       "      <th>Street Address</th>\n",
       "      <th>Suburb</th>\n",
       "      <th>State</th>\n",
       "      <th>Postcode</th>\n",
       "      <th>Property Type</th>\n",
       "      <th>Bed</th>\n",
       "      <th>Bath</th>\n",
       "      <th>Car</th>\n",
       "      <th>Land Size (m²)</th>\n",
       "      <th>Floor Size (m²)</th>\n",
       "      <th>...</th>\n",
       "      <th>Development Zone</th>\n",
       "      <th>Parcel Details</th>\n",
       "      <th>Owner 1 Name</th>\n",
       "      <th>Owner 2 Name</th>\n",
       "      <th>Owner 3 Name</th>\n",
       "      <th>Owner Type</th>\n",
       "      <th>Vendor 1 Name</th>\n",
       "      <th>Vendor 2 Name</th>\n",
       "      <th>Vendor 3 Name</th>\n",
       "      <th>Open in RPData</th>\n",
       "    </tr>\n",
       "  </thead>\n",
       "  <tbody>\n",
       "    <tr>\n",
       "      <th>0</th>\n",
       "      <td>19 ACKERS STREET</td>\n",
       "      <td>HERMIT PARK</td>\n",
       "      <td>QLD</td>\n",
       "      <td>4812</td>\n",
       "      <td>House: One Storey / Lowset</td>\n",
       "      <td>5</td>\n",
       "      <td>3</td>\n",
       "      <td>2</td>\n",
       "      <td>478</td>\n",
       "      <td>270</td>\n",
       "      <td>...</td>\n",
       "      <td>NOT ZONED</td>\n",
       "      <td>3/SP186223</td>\n",
       "      <td>STEVEN RAYMOND MORISH</td>\n",
       "      <td>-</td>\n",
       "      <td>-</td>\n",
       "      <td>Owner Occupied</td>\n",
       "      <td>ROBERT MICHAEL STANIER</td>\n",
       "      <td>NONI LOUISE OLSEN</td>\n",
       "      <td>-</td>\n",
       "      <td>https://rpp.corelogic.com.au/property/19-acker...</td>\n",
       "    </tr>\n",
       "    <tr>\n",
       "      <th>1</th>\n",
       "      <td>1 ACKERS STREET</td>\n",
       "      <td>HERMIT PARK</td>\n",
       "      <td>QLD</td>\n",
       "      <td>4812</td>\n",
       "      <td>House</td>\n",
       "      <td>3</td>\n",
       "      <td>2</td>\n",
       "      <td>-</td>\n",
       "      <td>809</td>\n",
       "      <td>152</td>\n",
       "      <td>...</td>\n",
       "      <td>RESIDENTIAL - NEIGHBOURHOOD</td>\n",
       "      <td>237/RP703399</td>\n",
       "      <td>KATIE MAREE KEAM</td>\n",
       "      <td>ZACHARY ALEXANDER KEAM</td>\n",
       "      <td>-</td>\n",
       "      <td>Owner Occupied</td>\n",
       "      <td>SHANNEAN ELLEN RUSZIETA MONCRIEFF</td>\n",
       "      <td>RUSSELL JAMES MONCRIEFF</td>\n",
       "      <td>-</td>\n",
       "      <td>https://rpp.corelogic.com.au/property/1-ackers...</td>\n",
       "    </tr>\n",
       "    <tr>\n",
       "      <th>2</th>\n",
       "      <td>3/7 ACKERS STREET</td>\n",
       "      <td>HERMIT PARK</td>\n",
       "      <td>QLD</td>\n",
       "      <td>4812</td>\n",
       "      <td>Unit: Standard</td>\n",
       "      <td>2</td>\n",
       "      <td>1</td>\n",
       "      <td>1</td>\n",
       "      <td>31</td>\n",
       "      <td>111</td>\n",
       "      <td>...</td>\n",
       "      <td>RESIDENTIAL - NEIGHBOURHOOD</td>\n",
       "      <td>3/BUP70031</td>\n",
       "      <td>WASSIM HURMIZ</td>\n",
       "      <td>-</td>\n",
       "      <td>-</td>\n",
       "      <td>Rented</td>\n",
       "      <td>NESRIN HARRISON</td>\n",
       "      <td>-</td>\n",
       "      <td>-</td>\n",
       "      <td>https://rpp.corelogic.com.au/property/3-7-acke...</td>\n",
       "    </tr>\n",
       "  </tbody>\n",
       "</table>\n",
       "<p>3 rows × 28 columns</p>\n",
       "</div>"
      ],
      "text/plain": [
       "       Street Address       Suburb State  Postcode  \\\n",
       "0   19 ACKERS STREET   HERMIT PARK   QLD      4812   \n",
       "1    1 ACKERS STREET   HERMIT PARK   QLD      4812   \n",
       "2  3/7 ACKERS STREET   HERMIT PARK   QLD      4812   \n",
       "\n",
       "                Property Type Bed Bath Car Land Size (m²) Floor Size (m²)  \\\n",
       "0  House: One Storey / Lowset   5    3   2            478             270   \n",
       "1                       House   3    2   -            809             152   \n",
       "2              Unit: Standard   2    1   1             31             111   \n",
       "\n",
       "   ...             Development Zone Parcel Details           Owner 1 Name  \\\n",
       "0  ...                    NOT ZONED     3/SP186223  STEVEN RAYMOND MORISH   \n",
       "1  ...  RESIDENTIAL - NEIGHBOURHOOD   237/RP703399       KATIE MAREE KEAM   \n",
       "2  ...  RESIDENTIAL - NEIGHBOURHOOD     3/BUP70031          WASSIM HURMIZ   \n",
       "\n",
       "             Owner 2 Name Owner 3 Name      Owner Type  \\\n",
       "0                       -            -  Owner Occupied   \n",
       "1  ZACHARY ALEXANDER KEAM            -  Owner Occupied   \n",
       "2                       -            -          Rented   \n",
       "\n",
       "                       Vendor 1 Name            Vendor 2 Name Vendor 3 Name  \\\n",
       "0             ROBERT MICHAEL STANIER        NONI LOUISE OLSEN             -   \n",
       "1  SHANNEAN ELLEN RUSZIETA MONCRIEFF  RUSSELL JAMES MONCRIEFF             -   \n",
       "2                    NESRIN HARRISON                        -             -   \n",
       "\n",
       "                                      Open in RPData  \n",
       "0  https://rpp.corelogic.com.au/property/19-acker...  \n",
       "1  https://rpp.corelogic.com.au/property/1-ackers...  \n",
       "2  https://rpp.corelogic.com.au/property/3-7-acke...  \n",
       "\n",
       "[3 rows x 28 columns]"
      ]
     },
     "execution_count": 6,
     "metadata": {},
     "output_type": "execute_result"
    }
   ],
   "source": [
    "hsales_df.head(3)"
   ]
  },
  {
   "attachments": {},
   "cell_type": "markdown",
   "id": "c58f06e2",
   "metadata": {
    "id": "ulu8XdxO416n",
    "papermill": {
     "duration": 0.010764,
     "end_time": "2023-03-17T11:57:15.999324",
     "exception": false,
     "start_time": "2023-03-17T11:57:15.988560",
     "status": "completed"
    },
    "tags": []
   },
   "source": [
    "* There are 37 feature columns. Using these features your model has to predict the house sale price indicated by the label column named `SalePrice`."
   ]
  },
  {
   "attachments": {},
   "cell_type": "markdown",
   "id": "32372a3d",
   "metadata": {},
   "source": [
    "# Blend Historical Sales with Current Records\n",
    "\n",
    "Dataset_df only contains the last sale.  Hsales_df contains all previous sales, plus a Year Built column.  The Historical Sales dataset needs to be merged into the Current Records dataset.\n",
    "\n",
    "* Convert the 'Open in RPP' fields to identifier fields in both sets.\n",
    "* Retrieve the 'Year Built' data from Historical into Current.\n",
    "* Remove 'current' sale record from Historical data set.\n",
    "* Retrieve all other feature columns from Current into Historical.\n",
    "* Add Historical records to Current data set.\n",
    "* Use Groupby and Shift functions to create 'Time Since Last Sale', 'Pct Growth Since Last Sale' columns.\n"
   ]
  },
  {
   "cell_type": "code",
   "execution_count": 7,
   "id": "c9e1c8c6",
   "metadata": {},
   "outputs": [],
   "source": [
    "# Convert the 'Open in RPP' fields to identifier fields in both sets.\n",
    "dataset_df['rppid'] = dataset_df['Open in RPP'].map(lambda x: x.strip('https://rpp.rpdata.com/rpp/property/detail.html?propertyId='))\n",
    "hsales_df['rppid'] = hsales_df['Open in RPData'].str.rpartition('/')[2]\n",
    "\n",
    "# Retrieve the 'Year Built' data from Historical into Current.\n",
    "dataset_df = dataset_df.merge(hsales_df, how='left', left_on='rppid', right_on='rppid')\n",
    "\n",
    "# remove current sale record from Historical data set\n",
    "## split dataframe into features and transactions\n",
    "## merge historical and current transaction data records on yearsold - month sold - sale price - rppid\n",
    "\n",
    "## drop duplicates from merged transactions dataframe\n",
    "\n",
    "# calculate time since last sale\n",
    "# calculate growth since last sale\n"
   ]
  },
  {
   "attachments": {},
   "cell_type": "markdown",
   "id": "09be5fc8",
   "metadata": {
    "id": "n82wWtvL416n",
    "papermill": {
     "duration": 0.010587,
     "end_time": "2023-03-17T11:57:16.020862",
     "exception": false,
     "start_time": "2023-03-17T11:57:16.010275",
     "status": "completed"
    },
    "tags": []
   },
   "source": [
    "We will drop the `Id` column as it is not necessary for model training.  Remove all Owner and Vendor, Relationship details and others that are not relevant at present."
   ]
  },
  {
   "cell_type": "code",
   "execution_count": 8,
   "id": "e69b6a3b",
   "metadata": {
    "execution": {
     "iopub.execute_input": "2023-03-17T11:57:16.045151Z",
     "iopub.status.busy": "2023-03-17T11:57:16.044386Z",
     "iopub.status.idle": "2023-03-17T11:57:16.069566Z",
     "shell.execute_reply": "2023-03-17T11:57:16.068227Z"
    },
    "id": "0lItmbYS416n",
    "papermill": {
     "duration": 0.040337,
     "end_time": "2023-03-17T11:57:16.072163",
     "exception": false,
     "start_time": "2023-03-17T11:57:16.031826",
     "status": "completed"
    },
    "tags": []
   },
   "outputs": [
    {
     "name": "stdout",
     "output_type": "stream",
     "text": [
      "<class 'pandas.core.frame.DataFrame'>\n",
      "Int64Index: 1626 entries, 0 to 1625\n",
      "Data columns (total 17 columns):\n",
      " #   Column                  Non-Null Count  Dtype  \n",
      "---  ------                  --------------  -----  \n",
      " 0   Property Type/Category  1626 non-null   object \n",
      " 1   Bed_x                   1626 non-null   int64  \n",
      " 2   Bath_x                  1626 non-null   int64  \n",
      " 3   Car_x                   1626 non-null   int64  \n",
      " 4   Land Size               1626 non-null   int64  \n",
      " 5   Building Area           1626 non-null   float64\n",
      " 6   Sale Price_x            1626 non-null   object \n",
      " 7   Sale Date_x             1384 non-null   object \n",
      " 8   Sale Type_x             1384 non-null   object \n",
      " 9   Land Use 1              1553 non-null   object \n",
      " 10  Zoning                  1543 non-null   object \n",
      " 11  Development Zone_x      1533 non-null   object \n",
      " 12  Valuation Type          1626 non-null   object \n",
      " 13  Valuation Amount        1626 non-null   object \n",
      " 14  Valuation Date          1067 non-null   object \n",
      " 15  rppid                   1626 non-null   object \n",
      " 16  Year Built              1073 non-null   object \n",
      "dtypes: float64(1), int64(4), object(12)\n",
      "memory usage: 228.7+ KB\n"
     ]
    }
   ],
   "source": [
    "#drop columns from merge\n",
    "dataset_df = dataset_df.drop(['Street Address_x','Suburb_x','State_x','Postcode_x','Settlement Date_x', 'Agency_x','Agent_x','Improve/Improvement','Construction','Primary plan/Lot Plan','RPD','Valuation No','Owner 1 Name_x','Owner 1 Address','Owner 2 Name_x','Owner 2 Address','Owner 3 Name_x','Owner 3 Address','Relationship','Vendor 1 Name_x','Vendor 1 Address','Vendor 2 Name_x','Vendor 2 Address','Vendor 3 Name_x','Vendor 3 Address','Street Address_y','Suburb_y','State_y','Postcode_y','Open in RPP', 'Open in RPData', 'Bed_y','Bath_y', 'Car_y','Land Size (m²)','Floor Size (m²)','Vendor 1 Name_y','Vendor 2 Name_y','Vendor 3 Name_y','Owner Type','Sale Price_y','Sale Date_y','Settlement Date_y','Sale Type_y','Development Zone_y','Owner 1 Name_y','Owner 2 Name_y','Owner 3 Name_y','Property Type','Agency_y','Agent_y','Land Use','Parcel Details'], axis=1)\n",
    "\n",
    "dataset_df.info()\n"
   ]
  },
  {
   "attachments": {},
   "cell_type": "markdown",
   "id": "13005b25",
   "metadata": {},
   "source": [
    "### Strip spaces from Column Names\n"
   ]
  },
  {
   "cell_type": "code",
   "execution_count": 9,
   "id": "be0d6617",
   "metadata": {},
   "outputs": [],
   "source": [
    "dataset_df.rename(columns={\"Land Size\": \"LandSize\", \"Building Area\": \"BuildingArea\", \"Sale Price_x\": \"SalePrice\", \"Sale Date_x\": \"SaleDate\", \"Sale Type_x\": \"SaleType\", \"Land Use 1\": \"LandUse1\", \"Development Zone_x\": \"DevelopmentZone\", \"Valuation Type\": \"ValuationType\", \"Valuation Amount\": \"ValuationAmount\", \"Valuation Date\": \"ValuationDate\", \"Year Built\":\"YearBuilt\"}, inplace=True)"
   ]
  },
  {
   "attachments": {},
   "cell_type": "markdown",
   "id": "00aacee8",
   "metadata": {},
   "source": [
    "### Convert to NaN, Convert Data Types\n",
    "\n",
    "A number of columns in the original dataset require the value 0 to be converted to NaN.\n",
    "A number of columns also need to be converted to a numeric data type."
   ]
  },
  {
   "cell_type": "code",
   "execution_count": 10,
   "id": "03a5338c",
   "metadata": {},
   "outputs": [
    {
     "name": "stderr",
     "output_type": "stream",
     "text": [
      "/tmp/ipykernel_1794/3418029331.py:8: FutureWarning: The default value of regex will change from True to False in a future version. In addition, single character regular expressions will *not* be treated as literal strings when regex=True.\n",
      "  dataset_df['SalePrice'] = dataset_df['SalePrice'].str.replace('$','')\n",
      "/tmp/ipykernel_1794/3418029331.py:12: FutureWarning: The default value of regex will change from True to False in a future version. In addition, single character regular expressions will *not* be treated as literal strings when regex=True.\n",
      "  dataset_df['ValuationAmount'] = dataset_df['ValuationAmount'].str.replace('$','')\n"
     ]
    },
    {
     "data": {
      "text/html": [
       "<div>\n",
       "<style scoped>\n",
       "    .dataframe tbody tr th:only-of-type {\n",
       "        vertical-align: middle;\n",
       "    }\n",
       "\n",
       "    .dataframe tbody tr th {\n",
       "        vertical-align: top;\n",
       "    }\n",
       "\n",
       "    .dataframe thead th {\n",
       "        text-align: right;\n",
       "    }\n",
       "</style>\n",
       "<table border=\"1\" class=\"dataframe\">\n",
       "  <thead>\n",
       "    <tr style=\"text-align: right;\">\n",
       "      <th></th>\n",
       "      <th>Property Type/Category</th>\n",
       "      <th>Bed_x</th>\n",
       "      <th>Bath_x</th>\n",
       "      <th>Car_x</th>\n",
       "      <th>LandSize</th>\n",
       "      <th>BuildingArea</th>\n",
       "      <th>SalePrice</th>\n",
       "      <th>SaleDate</th>\n",
       "      <th>SaleType</th>\n",
       "      <th>LandUse1</th>\n",
       "      <th>Zoning</th>\n",
       "      <th>DevelopmentZone</th>\n",
       "      <th>ValuationType</th>\n",
       "      <th>ValuationAmount</th>\n",
       "      <th>ValuationDate</th>\n",
       "      <th>rppid</th>\n",
       "      <th>YearBuilt</th>\n",
       "    </tr>\n",
       "  </thead>\n",
       "  <tbody>\n",
       "    <tr>\n",
       "      <th>0</th>\n",
       "      <td>House</td>\n",
       "      <td>3.0</td>\n",
       "      <td>2.0</td>\n",
       "      <td>NaN</td>\n",
       "      <td>809</td>\n",
       "      <td>NaN</td>\n",
       "      <td>194000.0</td>\n",
       "      <td>2021-05-04</td>\n",
       "      <td>Normal Sale</td>\n",
       "      <td>Single Unit Dwelling</td>\n",
       "      <td>RESIDENTIAL - NEIGHBOURHOOD</td>\n",
       "      <td>Character Residential</td>\n",
       "      <td>SV</td>\n",
       "      <td>89000.0</td>\n",
       "      <td>2022-06-30</td>\n",
       "      <td>5024762</td>\n",
       "      <td>1920</td>\n",
       "    </tr>\n",
       "    <tr>\n",
       "      <th>1</th>\n",
       "      <td>Unit</td>\n",
       "      <td>3.0</td>\n",
       "      <td>1.0</td>\n",
       "      <td>2.0</td>\n",
       "      <td>462</td>\n",
       "      <td>NaN</td>\n",
       "      <td>NaN</td>\n",
       "      <td>NaT</td>\n",
       "      <td>NaN</td>\n",
       "      <td>NaN</td>\n",
       "      <td>NaN</td>\n",
       "      <td>NaN</td>\n",
       "      <td>UCV</td>\n",
       "      <td>NaN</td>\n",
       "      <td>NaT</td>\n",
       "      <td>47670361</td>\n",
       "      <td>NaN</td>\n",
       "    </tr>\n",
       "    <tr>\n",
       "      <th>2</th>\n",
       "      <td>Unit</td>\n",
       "      <td>NaN</td>\n",
       "      <td>NaN</td>\n",
       "      <td>NaN</td>\n",
       "      <td>809</td>\n",
       "      <td>NaN</td>\n",
       "      <td>NaN</td>\n",
       "      <td>NaT</td>\n",
       "      <td>NaN</td>\n",
       "      <td>Building Units (Primary Use Only)</td>\n",
       "      <td>RESIDENTIAL - NEIGHBOURHOOD</td>\n",
       "      <td>Character Residential</td>\n",
       "      <td>SV</td>\n",
       "      <td>202500.0</td>\n",
       "      <td>2022-06-30</td>\n",
       "      <td>5024770</td>\n",
       "      <td>NaN</td>\n",
       "    </tr>\n",
       "  </tbody>\n",
       "</table>\n",
       "</div>"
      ],
      "text/plain": [
       "  Property Type/Category  Bed_x  Bath_x  Car_x  LandSize  BuildingArea  \\\n",
       "0                  House    3.0     2.0    NaN       809           NaN   \n",
       "1                   Unit    3.0     1.0    2.0       462           NaN   \n",
       "2                   Unit    NaN     NaN    NaN       809           NaN   \n",
       "\n",
       "   SalePrice   SaleDate     SaleType                           LandUse1  \\\n",
       "0   194000.0 2021-05-04  Normal Sale               Single Unit Dwelling   \n",
       "1        NaN        NaT          NaN                                NaN   \n",
       "2        NaN        NaT          NaN  Building Units (Primary Use Only)   \n",
       "\n",
       "                        Zoning        DevelopmentZone ValuationType  \\\n",
       "0  RESIDENTIAL - NEIGHBOURHOOD  Character Residential            SV   \n",
       "1                          NaN                    NaN           UCV   \n",
       "2  RESIDENTIAL - NEIGHBOURHOOD  Character Residential            SV   \n",
       "\n",
       "   ValuationAmount ValuationDate     rppid YearBuilt  \n",
       "0          89000.0    2022-06-30   5024762      1920  \n",
       "1              NaN           NaT  47670361       NaN  \n",
       "2         202500.0    2022-06-30   5024770       NaN  "
      ]
     },
     "execution_count": 10,
     "metadata": {},
     "output_type": "execute_result"
    }
   ],
   "source": [
    "dataset_df['Bed_x'].replace(0, np.nan, inplace=True)\n",
    "dataset_df['Bath_x'].replace(0, np.nan, inplace=True)\n",
    "dataset_df['Car_x'].replace(0, np.nan, inplace=True)\n",
    "dataset_df['BuildingArea'].replace(0, np.nan, inplace=True)\n",
    "\n",
    "dataset_df['SalePrice'].replace(\"$0\", np.nan, inplace=True)\n",
    "dataset_df['SalePrice'].replace(\"Not Disclosed\", np.nan, inplace=True)\n",
    "dataset_df['SalePrice'] = dataset_df['SalePrice'].str.replace('$','')\n",
    "dataset_df['SalePrice'] = dataset_df['SalePrice'].str.replace(',','')\n",
    "\n",
    "dataset_df['ValuationAmount'].replace(\"$0\", np.nan, inplace=True)\n",
    "dataset_df['ValuationAmount'] = dataset_df['ValuationAmount'].str.replace('$','')\n",
    "dataset_df['ValuationAmount'] = dataset_df['ValuationAmount'].str.replace(',','')\n",
    "\n",
    "# convert string columns to numeric\n",
    "dataset_df['ValuationAmount']   = pd.to_numeric(dataset_df['ValuationAmount'])\n",
    "dataset_df['SalePrice']         = pd.to_numeric(dataset_df['SalePrice'])\n",
    "\n",
    "# Where SaleDate is 1-Jan-30 also needs to be converted to NaN\n",
    "dataset_df['SaleDate'].replace(\"1-Jan-30\", np.nan, inplace=True)\n",
    "\n",
    "# convert string columns to dates\n",
    "dataset_df['SaleDate']   = pd.to_datetime(dataset_df['SaleDate'], format=\"%d-%b-%y\")\n",
    "dataset_df['ValuationDate']   = pd.to_datetime(dataset_df['ValuationDate'], format=\"%d-%b-%y\")\n",
    "\n",
    "\n",
    "dataset_df.head(3)"
   ]
  },
  {
   "attachments": {},
   "cell_type": "markdown",
   "id": "47adb000",
   "metadata": {},
   "source": [
    "### Convert Columns to Categories\n",
    "\n",
    "Convert some columns to categorical data."
   ]
  },
  {
   "cell_type": "code",
   "execution_count": 11,
   "id": "0e41d89c",
   "metadata": {},
   "outputs": [
    {
     "data": {
      "text/html": [
       "<div>\n",
       "<style scoped>\n",
       "    .dataframe tbody tr th:only-of-type {\n",
       "        vertical-align: middle;\n",
       "    }\n",
       "\n",
       "    .dataframe tbody tr th {\n",
       "        vertical-align: top;\n",
       "    }\n",
       "\n",
       "    .dataframe thead th {\n",
       "        text-align: right;\n",
       "    }\n",
       "</style>\n",
       "<table border=\"1\" class=\"dataframe\">\n",
       "  <thead>\n",
       "    <tr style=\"text-align: right;\">\n",
       "      <th></th>\n",
       "      <th>Property Type/Category</th>\n",
       "      <th>Bed_x</th>\n",
       "      <th>Bath_x</th>\n",
       "      <th>Car_x</th>\n",
       "      <th>LandSize</th>\n",
       "      <th>BuildingArea</th>\n",
       "      <th>SalePrice</th>\n",
       "      <th>SaleDate</th>\n",
       "      <th>SaleType</th>\n",
       "      <th>LandUse1</th>\n",
       "      <th>Zoning</th>\n",
       "      <th>DevelopmentZone</th>\n",
       "      <th>ValuationType</th>\n",
       "      <th>ValuationAmount</th>\n",
       "      <th>ValuationDate</th>\n",
       "      <th>rppid</th>\n",
       "      <th>YearBuilt</th>\n",
       "    </tr>\n",
       "  </thead>\n",
       "  <tbody>\n",
       "    <tr>\n",
       "      <th>0</th>\n",
       "      <td>House</td>\n",
       "      <td>3.0</td>\n",
       "      <td>2.0</td>\n",
       "      <td>NaN</td>\n",
       "      <td>809</td>\n",
       "      <td>NaN</td>\n",
       "      <td>194000.0</td>\n",
       "      <td>2021-05-04</td>\n",
       "      <td>NM</td>\n",
       "      <td>HSE</td>\n",
       "      <td>NBH</td>\n",
       "      <td>CHAR</td>\n",
       "      <td>SV</td>\n",
       "      <td>89000.0</td>\n",
       "      <td>2022-06-30</td>\n",
       "      <td>5024762</td>\n",
       "      <td>1920</td>\n",
       "    </tr>\n",
       "    <tr>\n",
       "      <th>1</th>\n",
       "      <td>Unit</td>\n",
       "      <td>3.0</td>\n",
       "      <td>1.0</td>\n",
       "      <td>2.0</td>\n",
       "      <td>462</td>\n",
       "      <td>NaN</td>\n",
       "      <td>NaN</td>\n",
       "      <td>NaT</td>\n",
       "      <td>NaN</td>\n",
       "      <td>NaN</td>\n",
       "      <td>NaN</td>\n",
       "      <td>NaN</td>\n",
       "      <td>UCV</td>\n",
       "      <td>NaN</td>\n",
       "      <td>NaT</td>\n",
       "      <td>47670361</td>\n",
       "      <td>NaN</td>\n",
       "    </tr>\n",
       "    <tr>\n",
       "      <th>2</th>\n",
       "      <td>Unit</td>\n",
       "      <td>NaN</td>\n",
       "      <td>NaN</td>\n",
       "      <td>NaN</td>\n",
       "      <td>809</td>\n",
       "      <td>NaN</td>\n",
       "      <td>NaN</td>\n",
       "      <td>NaT</td>\n",
       "      <td>NaN</td>\n",
       "      <td>BUP</td>\n",
       "      <td>NBH</td>\n",
       "      <td>CHAR</td>\n",
       "      <td>SV</td>\n",
       "      <td>202500.0</td>\n",
       "      <td>2022-06-30</td>\n",
       "      <td>5024770</td>\n",
       "      <td>NaN</td>\n",
       "    </tr>\n",
       "  </tbody>\n",
       "</table>\n",
       "</div>"
      ],
      "text/plain": [
       "  Property Type/Category  Bed_x  Bath_x  Car_x  LandSize  BuildingArea  \\\n",
       "0                  House    3.0     2.0    NaN       809           NaN   \n",
       "1                   Unit    3.0     1.0    2.0       462           NaN   \n",
       "2                   Unit    NaN     NaN    NaN       809           NaN   \n",
       "\n",
       "   SalePrice   SaleDate SaleType LandUse1 Zoning DevelopmentZone  \\\n",
       "0   194000.0 2021-05-04       NM      HSE    NBH            CHAR   \n",
       "1        NaN        NaT      NaN      NaN    NaN             NaN   \n",
       "2        NaN        NaT      NaN      BUP    NBH            CHAR   \n",
       "\n",
       "  ValuationType  ValuationAmount ValuationDate     rppid YearBuilt  \n",
       "0            SV          89000.0    2022-06-30   5024762      1920  \n",
       "1           UCV              NaN           NaT  47670361       NaN  \n",
       "2            SV         202500.0    2022-06-30   5024770       NaN  "
      ]
     },
     "execution_count": 11,
     "metadata": {},
     "output_type": "execute_result"
    }
   ],
   "source": [
    "# SaleType column\n",
    "dataset_df['SaleType'].replace('Normal Sale','NM', inplace=True)\n",
    "dataset_df['SaleType'].replace('Unknown','UN', inplace=True)\n",
    "dataset_df['SaleType'].replace('Part Sale','PA', inplace=True)\n",
    "dataset_df['SaleType'].replace('Family Sale','FA', inplace=True)\n",
    "dataset_df['SaleType'].replace('Transmission By Death','TR', inplace=True)\n",
    "dataset_df['SaleType'].replace('Multi-Sale','MS', inplace=True)\n",
    "dataset_df['SaleType'].replace('Transfer By Third Party','TF', inplace=True)\n",
    "dataset_df['SaleType'].replace('Court Order','CO', inplace=True)\n",
    "dataset_df['SaleType'].replace('Rebated Sale''RE', inplace=True)\n",
    "\n",
    "#dataset_df['SaleType'] = dataset_df['SaleType'].fillna(\"Unknown\", inplace=True)\n",
    "#dataset_df['SaleType'] = dataset_df['SaleType'].astype(\"category\")\n",
    "\n",
    "# Zoning\n",
    "dataset_df['Zoning'].replace('Normal Sale','NM', inplace=True)\n",
    "dataset_df['Zoning'].replace('NOT ZONED', 'NOT', inplace=True)\n",
    "dataset_df['Zoning'].replace('RESIDENTIAL - MIXED (7000)', 'MIX', inplace=True)\n",
    "dataset_df['Zoning'].replace('RESIDENTIAL - NEIGHBOURHOOD', 'NBH', inplace=True)\n",
    "dataset_df['Zoning'].replace('RESIDENTIAL - TRADITIONAL (7000)', 'TRD', inplace=True)\n",
    "\n",
    "#dataset_df['Zoning'] = dataset_df['Zoning'].fillna(\"Unknown\", inplace=True)\n",
    "#dataset_df['Zoning'] = dataset_df['Zoning'].astype(\"category\")\n",
    "\n",
    "# LandUse1\n",
    "dataset_df['LandUse1'].replace('Building Units (Primary Use Only)','BUP', inplace=True)\n",
    "dataset_df['LandUse1'].replace('Group Title (Primary Use Only)','GTP', inplace=True)\n",
    "dataset_df['LandUse1'].replace('Guest House/Private Hotel','GHS', inplace=True)\n",
    "dataset_df['LandUse1'].replace('Multi Unit Dwelling (Flats)','MUD', inplace=True)\n",
    "dataset_df['LandUse1'].replace('Single Unit Dwelling','HSE', inplace=True)\n",
    "dataset_df['LandUse1'].replace('Vacant Urban Land','LND', inplace=True)\n",
    "\n",
    "#dataset_df['LandUse1'] = dataset_df['LandUse1'].fillna(\"Unknown\", inplace=True)\n",
    "#dataset_df['LandUse1'] = dataset_df['LandUse1'].astype(\"category\")\n",
    "\n",
    "# DevelopmentZone\n",
    "dataset_df['DevelopmentZone'].replace('Normal Sale','NM', inplace=True)\n",
    "dataset_df['DevelopmentZone'].replace('Character Residential','CHAR', inplace=True)\n",
    "dataset_df['DevelopmentZone'].replace('Low Density Residential','LRES', inplace=True)\n",
    "dataset_df['DevelopmentZone'].replace('Mixed Use','MIXU', inplace=True)\n",
    "\n",
    "#dataset_df['DevelopmentZone'] = dataset_df['DevelopmentZone'].fillna(\"Unknown\", inplace=True)\n",
    "#dataset_df['DevelopmentZone'] = dataset_df['DevelopmentZone'].astype(\"category\")\n",
    "\n",
    "#dataset_df['ValuationType'] = dataset_df['ValuationType'].fillna(\"Unknown\", inplace=True)\n",
    "#dataset_df['ValuationType'] = dataset_df['ValuationType'].astype(\"category\")\n",
    "\n",
    "\n",
    "dataset_df.head(3)"
   ]
  },
  {
   "attachments": {},
   "cell_type": "markdown",
   "id": "7a9c2856",
   "metadata": {},
   "source": [
    "## Convert Dates to Year and Month Columns\n",
    "\n",
    "Tensors cannot be created from datetime arrays, so to extract just key data three date columns need to be converted into 6 columns."
   ]
  },
  {
   "cell_type": "code",
   "execution_count": 12,
   "id": "6ca1145e",
   "metadata": {},
   "outputs": [
    {
     "data": {
      "text/html": [
       "<div>\n",
       "<style scoped>\n",
       "    .dataframe tbody tr th:only-of-type {\n",
       "        vertical-align: middle;\n",
       "    }\n",
       "\n",
       "    .dataframe tbody tr th {\n",
       "        vertical-align: top;\n",
       "    }\n",
       "\n",
       "    .dataframe thead th {\n",
       "        text-align: right;\n",
       "    }\n",
       "</style>\n",
       "<table border=\"1\" class=\"dataframe\">\n",
       "  <thead>\n",
       "    <tr style=\"text-align: right;\">\n",
       "      <th></th>\n",
       "      <th>Property Type/Category</th>\n",
       "      <th>Bed_x</th>\n",
       "      <th>Bath_x</th>\n",
       "      <th>Car_x</th>\n",
       "      <th>LandSize</th>\n",
       "      <th>BuildingArea</th>\n",
       "      <th>SalePrice</th>\n",
       "      <th>SaleType</th>\n",
       "      <th>LandUse1</th>\n",
       "      <th>Zoning</th>\n",
       "      <th>DevelopmentZone</th>\n",
       "      <th>ValuationType</th>\n",
       "      <th>ValuationAmount</th>\n",
       "      <th>rppid</th>\n",
       "      <th>YearBuilt</th>\n",
       "      <th>YrSaleDate</th>\n",
       "      <th>MthSaleDate</th>\n",
       "      <th>YrValuationDate</th>\n",
       "      <th>MthValuationDate</th>\n",
       "    </tr>\n",
       "  </thead>\n",
       "  <tbody>\n",
       "    <tr>\n",
       "      <th>0</th>\n",
       "      <td>House</td>\n",
       "      <td>3.0</td>\n",
       "      <td>2.0</td>\n",
       "      <td>NaN</td>\n",
       "      <td>809</td>\n",
       "      <td>NaN</td>\n",
       "      <td>194000.0</td>\n",
       "      <td>NM</td>\n",
       "      <td>HSE</td>\n",
       "      <td>NBH</td>\n",
       "      <td>CHAR</td>\n",
       "      <td>SV</td>\n",
       "      <td>89000.0</td>\n",
       "      <td>5024762</td>\n",
       "      <td>1920</td>\n",
       "      <td>2021.0</td>\n",
       "      <td>5.0</td>\n",
       "      <td>2022.0</td>\n",
       "      <td>6.0</td>\n",
       "    </tr>\n",
       "    <tr>\n",
       "      <th>1</th>\n",
       "      <td>Unit</td>\n",
       "      <td>3.0</td>\n",
       "      <td>1.0</td>\n",
       "      <td>2.0</td>\n",
       "      <td>462</td>\n",
       "      <td>NaN</td>\n",
       "      <td>NaN</td>\n",
       "      <td>NaN</td>\n",
       "      <td>NaN</td>\n",
       "      <td>NaN</td>\n",
       "      <td>NaN</td>\n",
       "      <td>UCV</td>\n",
       "      <td>NaN</td>\n",
       "      <td>47670361</td>\n",
       "      <td>NaN</td>\n",
       "      <td>NaN</td>\n",
       "      <td>NaN</td>\n",
       "      <td>NaN</td>\n",
       "      <td>NaN</td>\n",
       "    </tr>\n",
       "    <tr>\n",
       "      <th>2</th>\n",
       "      <td>Unit</td>\n",
       "      <td>NaN</td>\n",
       "      <td>NaN</td>\n",
       "      <td>NaN</td>\n",
       "      <td>809</td>\n",
       "      <td>NaN</td>\n",
       "      <td>NaN</td>\n",
       "      <td>NaN</td>\n",
       "      <td>BUP</td>\n",
       "      <td>NBH</td>\n",
       "      <td>CHAR</td>\n",
       "      <td>SV</td>\n",
       "      <td>202500.0</td>\n",
       "      <td>5024770</td>\n",
       "      <td>NaN</td>\n",
       "      <td>NaN</td>\n",
       "      <td>NaN</td>\n",
       "      <td>2022.0</td>\n",
       "      <td>6.0</td>\n",
       "    </tr>\n",
       "  </tbody>\n",
       "</table>\n",
       "</div>"
      ],
      "text/plain": [
       "  Property Type/Category  Bed_x  Bath_x  Car_x  LandSize  BuildingArea  \\\n",
       "0                  House    3.0     2.0    NaN       809           NaN   \n",
       "1                   Unit    3.0     1.0    2.0       462           NaN   \n",
       "2                   Unit    NaN     NaN    NaN       809           NaN   \n",
       "\n",
       "   SalePrice SaleType LandUse1 Zoning DevelopmentZone ValuationType  \\\n",
       "0   194000.0       NM      HSE    NBH            CHAR            SV   \n",
       "1        NaN      NaN      NaN    NaN             NaN           UCV   \n",
       "2        NaN      NaN      BUP    NBH            CHAR            SV   \n",
       "\n",
       "   ValuationAmount     rppid YearBuilt  YrSaleDate  MthSaleDate  \\\n",
       "0          89000.0   5024762      1920      2021.0          5.0   \n",
       "1              NaN  47670361       NaN         NaN          NaN   \n",
       "2         202500.0   5024770       NaN         NaN          NaN   \n",
       "\n",
       "   YrValuationDate  MthValuationDate  \n",
       "0           2022.0               6.0  \n",
       "1              NaN               NaN  \n",
       "2           2022.0               6.0  "
      ]
     },
     "execution_count": 12,
     "metadata": {},
     "output_type": "execute_result"
    }
   ],
   "source": [
    "# create YrSaleDate column\n",
    "dataset_df['YrSaleDate'] = dataset_df['SaleDate'].dt.year\n",
    "# create MthSaleDate column\n",
    "dataset_df['MthSaleDate'] = dataset_df['SaleDate'].dt.month\n",
    "# create YrValuationDate column\n",
    "dataset_df['YrValuationDate'] = dataset_df['ValuationDate'].dt.year\n",
    "# create MthValuationDate column\n",
    "dataset_df['MthValuationDate'] = dataset_df['ValuationDate'].dt.month\n",
    "\n",
    "# drop date columns\n",
    "dataset_df = dataset_df.drop(['SaleDate','ValuationDate'], axis=1)\n",
    "\n",
    "dataset_df.head(3)"
   ]
  },
  {
   "attachments": {},
   "cell_type": "markdown",
   "id": "6a901486",
   "metadata": {},
   "source": [
    "### Remove rows where SalePrice is missing\n",
    "\n",
    "If we don't know the historical sale price, the property is of no use in training.\n",
    "This is where the test dataset is to be created though, as the test data (for use in property-by-property prediction) may or may not have historical sale prices."
   ]
  },
  {
   "cell_type": "code",
   "execution_count": 13,
   "id": "3bffef9e",
   "metadata": {},
   "outputs": [],
   "source": [
    "testdata_df = dataset_df\n",
    "dataset_df.dropna(subset=['SalePrice'], inplace=True)"
   ]
  },
  {
   "cell_type": "markdown",
   "id": "55efcbad",
   "metadata": {
    "id": "QA_v408l416n",
    "papermill": {
     "duration": 0.011591,
     "end_time": "2023-03-17T11:57:16.095129",
     "exception": false,
     "start_time": "2023-03-17T11:57:16.083538",
     "status": "completed"
    },
    "tags": []
   },
   "source": [
    "We can inspect the types of feature columns using the following code:"
   ]
  },
  {
   "cell_type": "code",
   "execution_count": 14,
   "id": "80034954",
   "metadata": {
    "execution": {
     "iopub.execute_input": "2023-03-17T11:57:16.120063Z",
     "iopub.status.busy": "2023-03-17T11:57:16.119192Z",
     "iopub.status.idle": "2023-03-17T11:57:16.149953Z",
     "shell.execute_reply": "2023-03-17T11:57:16.147129Z"
    },
    "id": "du6DU4Of416n",
    "papermill": {
     "duration": 0.046399,
     "end_time": "2023-03-17T11:57:16.152820",
     "exception": false,
     "start_time": "2023-03-17T11:57:16.106421",
     "status": "completed"
    },
    "tags": []
   },
   "outputs": [
    {
     "name": "stdout",
     "output_type": "stream",
     "text": [
      "<class 'pandas.core.frame.DataFrame'>\n",
      "Int64Index: 1353 entries, 0 to 1625\n",
      "Data columns (total 19 columns):\n",
      " #   Column                  Non-Null Count  Dtype  \n",
      "---  ------                  --------------  -----  \n",
      " 0   Property Type/Category  1353 non-null   object \n",
      " 1   Bed_x                   1190 non-null   float64\n",
      " 2   Bath_x                  1170 non-null   float64\n",
      " 3   Car_x                   1161 non-null   float64\n",
      " 4   LandSize                1353 non-null   int64  \n",
      " 5   BuildingArea            599 non-null    float64\n",
      " 6   SalePrice               1353 non-null   float64\n",
      " 7   SaleType                1353 non-null   object \n",
      " 8   LandUse1                1352 non-null   object \n",
      " 9   Zoning                  1342 non-null   object \n",
      " 10  DevelopmentZone         1337 non-null   object \n",
      " 11  ValuationType           1353 non-null   object \n",
      " 12  ValuationAmount         828 non-null    float64\n",
      " 13  rppid                   1353 non-null   object \n",
      " 14  YearBuilt               1069 non-null   object \n",
      " 15  YrSaleDate              1353 non-null   float64\n",
      " 16  MthSaleDate             1353 non-null   float64\n",
      " 17  YrValuationDate         828 non-null    float64\n",
      " 18  MthValuationDate        828 non-null    float64\n",
      "dtypes: float64(10), int64(1), object(8)\n",
      "memory usage: 211.4+ KB\n"
     ]
    }
   ],
   "source": [
    "dataset_df.info()"
   ]
  },
  {
   "cell_type": "markdown",
   "id": "e37dbe90",
   "metadata": {
    "id": "PxdZCHvk416o",
    "papermill": {
     "duration": 0.011333,
     "end_time": "2023-03-17T11:57:16.176026",
     "exception": false,
     "start_time": "2023-03-17T11:57:16.164693",
     "status": "completed"
    },
    "tags": []
   },
   "source": [
    "## House Price Distribution\n",
    "\n",
    "Now let us take a look at how the house prices are distributed."
   ]
  },
  {
   "cell_type": "code",
   "execution_count": 15,
   "id": "462297e0",
   "metadata": {
    "execution": {
     "iopub.execute_input": "2023-03-17T11:57:16.201867Z",
     "iopub.status.busy": "2023-03-17T11:57:16.201012Z",
     "iopub.status.idle": "2023-03-17T11:57:16.903141Z",
     "shell.execute_reply": "2023-03-17T11:57:16.901878Z"
    },
    "id": "qROZWZyE416o",
    "papermill": {
     "duration": 0.718159,
     "end_time": "2023-03-17T11:57:16.905711",
     "exception": false,
     "start_time": "2023-03-17T11:57:16.187552",
     "status": "completed"
    },
    "tags": []
   },
   "outputs": [
    {
     "name": "stdout",
     "output_type": "stream",
     "text": [
      "count       1353.000000\n",
      "mean      266666.779749\n",
      "std       159539.417663\n",
      "min         3500.000000\n",
      "25%       148000.000000\n",
      "50%       235000.000000\n",
      "75%       365000.000000\n",
      "max      1000000.000000\n",
      "Name: SalePrice, dtype: float64\n"
     ]
    },
    {
     "name": "stderr",
     "output_type": "stream",
     "text": [
      "/tmp/ipykernel_1794/3430012634.py:3: UserWarning: \n",
      "\n",
      "`distplot` is a deprecated function and will be removed in seaborn v0.14.0.\n",
      "\n",
      "Please adapt your code to use either `displot` (a figure-level function with\n",
      "similar flexibility) or `histplot` (an axes-level function for histograms).\n",
      "\n",
      "For a guide to updating your code to use the new functions, please see\n",
      "https://gist.github.com/mwaskom/de44147ed2974457ad6372750bbe5751\n",
      "\n",
      "  sns.distplot(dataset_df['SalePrice'], color='g', bins=100, hist_kws={'alpha': 0.4});\n"
     ]
    },
    {
     "data": {
      "image/png": "[encoded data removed]",
      "text/plain": [
       "<Figure size 900x800 with 1 Axes>"
      ]
     },
     "metadata": {},
     "output_type": "display_data"
    }
   ],
   "source": [
    "print(dataset_df['SalePrice'].describe())\n",
    "plt.figure(figsize=(9, 8))\n",
    "sns.distplot(dataset_df['SalePrice'], color='g', bins=100, hist_kws={'alpha': 0.4});"
   ]
  },
  {
   "cell_type": "markdown",
   "id": "3f5e4c19",
   "metadata": {
    "id": "tKnn1nR-416o",
    "papermill": {
     "duration": 0.011824,
     "end_time": "2023-03-17T11:57:16.929705",
     "exception": false,
     "start_time": "2023-03-17T11:57:16.917881",
     "status": "completed"
    },
    "tags": []
   },
   "source": [
    "## Numerical data distribution\n",
    "\n",
    "We will now take a look at how the numerical features are distributed. In order to do this, let us first list all the types of data from our dataset and select only the numerical ones."
   ]
  },
  {
   "cell_type": "code",
   "execution_count": 16,
   "id": "f88c9079",
   "metadata": {
    "execution": {
     "iopub.execute_input": "2023-03-17T11:57:16.957337Z",
     "iopub.status.busy": "2023-03-17T11:57:16.956146Z",
     "iopub.status.idle": "2023-03-17T11:57:16.963612Z",
     "shell.execute_reply": "2023-03-17T11:57:16.962479Z"
    },
    "id": "-hrMItSC416o",
    "papermill": {
     "duration": 0.023606,
     "end_time": "2023-03-17T11:57:16.966036",
     "exception": false,
     "start_time": "2023-03-17T11:57:16.942430",
     "status": "completed"
    },
    "tags": []
   },
   "outputs": [
    {
     "data": {
      "text/plain": [
       "[dtype('float64'), dtype('int64'), dtype('O')]"
      ]
     },
     "execution_count": 16,
     "metadata": {},
     "output_type": "execute_result"
    }
   ],
   "source": [
    "list(set(dataset_df.dtypes.tolist()))"
   ]
  },
  {
   "cell_type": "code",
   "execution_count": 17,
   "id": "9ec2e961",
   "metadata": {
    "execution": {
     "iopub.execute_input": "2023-03-17T11:57:16.992491Z",
     "iopub.status.busy": "2023-03-17T11:57:16.992059Z",
     "iopub.status.idle": "2023-03-17T11:57:17.015913Z",
     "shell.execute_reply": "2023-03-17T11:57:17.014888Z"
    },
    "id": "Vg2PQvfb416o",
    "papermill": {
     "duration": 0.039923,
     "end_time": "2023-03-17T11:57:17.018109",
     "exception": false,
     "start_time": "2023-03-17T11:57:16.978186",
     "status": "completed"
    },
    "tags": []
   },
   "outputs": [
    {
     "data": {
      "text/html": [
       "<div>\n",
       "<style scoped>\n",
       "    .dataframe tbody tr th:only-of-type {\n",
       "        vertical-align: middle;\n",
       "    }\n",
       "\n",
       "    .dataframe tbody tr th {\n",
       "        vertical-align: top;\n",
       "    }\n",
       "\n",
       "    .dataframe thead th {\n",
       "        text-align: right;\n",
       "    }\n",
       "</style>\n",
       "<table border=\"1\" class=\"dataframe\">\n",
       "  <thead>\n",
       "    <tr style=\"text-align: right;\">\n",
       "      <th></th>\n",
       "      <th>Bed_x</th>\n",
       "      <th>Bath_x</th>\n",
       "      <th>Car_x</th>\n",
       "      <th>LandSize</th>\n",
       "      <th>BuildingArea</th>\n",
       "      <th>SalePrice</th>\n",
       "      <th>ValuationAmount</th>\n",
       "      <th>YrSaleDate</th>\n",
       "      <th>MthSaleDate</th>\n",
       "      <th>YrValuationDate</th>\n",
       "      <th>MthValuationDate</th>\n",
       "    </tr>\n",
       "  </thead>\n",
       "  <tbody>\n",
       "    <tr>\n",
       "      <th>0</th>\n",
       "      <td>3.0</td>\n",
       "      <td>2.0</td>\n",
       "      <td>NaN</td>\n",
       "      <td>809</td>\n",
       "      <td>NaN</td>\n",
       "      <td>194000.0</td>\n",
       "      <td>89000.0</td>\n",
       "      <td>2021.0</td>\n",
       "      <td>5.0</td>\n",
       "      <td>2022.0</td>\n",
       "      <td>6.0</td>\n",
       "    </tr>\n",
       "    <tr>\n",
       "      <th>3</th>\n",
       "      <td>2.0</td>\n",
       "      <td>1.0</td>\n",
       "      <td>1.0</td>\n",
       "      <td>31</td>\n",
       "      <td>87.0</td>\n",
       "      <td>65000.0</td>\n",
       "      <td>NaN</td>\n",
       "      <td>2000.0</td>\n",
       "      <td>7.0</td>\n",
       "      <td>NaN</td>\n",
       "      <td>NaN</td>\n",
       "    </tr>\n",
       "    <tr>\n",
       "      <th>4</th>\n",
       "      <td>2.0</td>\n",
       "      <td>1.0</td>\n",
       "      <td>1.0</td>\n",
       "      <td>31</td>\n",
       "      <td>87.0</td>\n",
       "      <td>180000.0</td>\n",
       "      <td>NaN</td>\n",
       "      <td>2006.0</td>\n",
       "      <td>5.0</td>\n",
       "      <td>NaN</td>\n",
       "      <td>NaN</td>\n",
       "    </tr>\n",
       "    <tr>\n",
       "      <th>5</th>\n",
       "      <td>2.0</td>\n",
       "      <td>1.0</td>\n",
       "      <td>1.0</td>\n",
       "      <td>31</td>\n",
       "      <td>87.0</td>\n",
       "      <td>169000.0</td>\n",
       "      <td>NaN</td>\n",
       "      <td>2022.0</td>\n",
       "      <td>10.0</td>\n",
       "      <td>NaN</td>\n",
       "      <td>NaN</td>\n",
       "    </tr>\n",
       "    <tr>\n",
       "      <th>7</th>\n",
       "      <td>2.0</td>\n",
       "      <td>1.0</td>\n",
       "      <td>1.0</td>\n",
       "      <td>31</td>\n",
       "      <td>87.0</td>\n",
       "      <td>170000.0</td>\n",
       "      <td>NaN</td>\n",
       "      <td>2022.0</td>\n",
       "      <td>11.0</td>\n",
       "      <td>NaN</td>\n",
       "      <td>NaN</td>\n",
       "    </tr>\n",
       "  </tbody>\n",
       "</table>\n",
       "</div>"
      ],
      "text/plain": [
       "   Bed_x  Bath_x  Car_x  LandSize  BuildingArea  SalePrice  ValuationAmount  \\\n",
       "0    3.0     2.0    NaN       809           NaN   194000.0          89000.0   \n",
       "3    2.0     1.0    1.0        31          87.0    65000.0              NaN   \n",
       "4    2.0     1.0    1.0        31          87.0   180000.0              NaN   \n",
       "5    2.0     1.0    1.0        31          87.0   169000.0              NaN   \n",
       "7    2.0     1.0    1.0        31          87.0   170000.0              NaN   \n",
       "\n",
       "   YrSaleDate  MthSaleDate  YrValuationDate  MthValuationDate  \n",
       "0      2021.0          5.0           2022.0               6.0  \n",
       "3      2000.0          7.0              NaN               NaN  \n",
       "4      2006.0          5.0              NaN               NaN  \n",
       "5      2022.0         10.0              NaN               NaN  \n",
       "7      2022.0         11.0              NaN               NaN  "
      ]
     },
     "execution_count": 17,
     "metadata": {},
     "output_type": "execute_result"
    }
   ],
   "source": [
    "df_num = dataset_df.select_dtypes(include = ['float64', 'int64'])\n",
    "df_num.head()"
   ]
  },
  {
   "cell_type": "markdown",
   "id": "5af408f9",
   "metadata": {
    "id": "MnaH5h8u416o",
    "papermill": {
     "duration": 0.012328,
     "end_time": "2023-03-17T11:57:17.043130",
     "exception": false,
     "start_time": "2023-03-17T11:57:17.030802",
     "status": "completed"
    },
    "tags": []
   },
   "source": [
    "Now let us plot the distribution for all the numerical features."
   ]
  },
  {
   "cell_type": "code",
   "execution_count": 18,
   "id": "3727391e",
   "metadata": {
    "execution": {
     "iopub.execute_input": "2023-03-17T11:57:17.070533Z",
     "iopub.status.busy": "2023-03-17T11:57:17.069542Z",
     "iopub.status.idle": "2023-03-17T11:57:24.939404Z",
     "shell.execute_reply": "2023-03-17T11:57:24.938176Z"
    },
    "id": "Dj4h_dIw416o",
    "papermill": {
     "duration": 7.888396,
     "end_time": "2023-03-17T11:57:24.944063",
     "exception": false,
     "start_time": "2023-03-17T11:57:17.055667",
     "status": "completed"
    },
    "tags": []
   },
   "outputs": [
    {
     "data": {
      "image/png": "[encoded data removed]",
      "text/plain": [
       "<Figure size 1600x2000 with 12 Axes>"
      ]
     },
     "metadata": {},
     "output_type": "display_data"
    }
   ],
   "source": [
    "df_num.hist(figsize=(16, 20), bins=50, xlabelsize=8, ylabelsize=8);"
   ]
  },
  {
   "attachments": {},
   "cell_type": "markdown",
   "id": "d821968b",
   "metadata": {
    "id": "H4O7QCoh5e2e",
    "papermill": {
     "duration": 0.015268,
     "end_time": "2023-03-17T11:57:24.975275",
     "exception": false,
     "start_time": "2023-03-17T11:57:24.960007",
     "status": "completed"
    },
    "tags": []
   },
   "source": [
    "## Prepare the dataset\n",
    "\n",
    "This dataset contains a mix of numeric, categorical and missing features. TF-DF supports all these feature types natively, and no preprocessing is required. This is one advantage of tree-based models, making them a great entry point to Tensorflow and ML.\n",
    "\n",
    "### Treat  Missing Values\n",
    "\n",
    "Despite the above, currently missing values, blanks and zeros are represented the same way in the dataset.  In specific columns, zeros need to be converted to NaN, as do blanks.\n",
    "\n",
    "> In the original Hermit Park dataset, there were 7 properties without LandSize. These were deleted."
   ]
  },
  {
   "attachments": {},
   "cell_type": "markdown",
   "id": "53e420a3",
   "metadata": {},
   "source": [
    "### Roll Back Current Month Sales\n",
    "\n",
    "Do this later."
   ]
  },
  {
   "cell_type": "markdown",
   "id": "e513aa83",
   "metadata": {
    "id": "brbRsBQfSC74",
    "papermill": {
     "duration": 0.015027,
     "end_time": "2023-03-17T11:57:25.005891",
     "exception": false,
     "start_time": "2023-03-17T11:57:24.990864",
     "status": "completed"
    },
    "tags": []
   },
   "source": [
    "Now let us split the dataset into training and testing datasets:"
   ]
  },
  {
   "cell_type": "code",
   "execution_count": 19,
   "id": "72f96e74",
   "metadata": {
    "execution": {
     "iopub.execute_input": "2023-03-17T11:57:25.043084Z",
     "iopub.status.busy": "2023-03-17T11:57:25.042472Z",
     "iopub.status.idle": "2023-03-17T11:57:25.055375Z",
     "shell.execute_reply": "2023-03-17T11:57:25.053962Z"
    },
    "id": "tsQad0t7SBv2",
    "papermill": {
     "duration": 0.03674,
     "end_time": "2023-03-17T11:57:25.057943",
     "exception": false,
     "start_time": "2023-03-17T11:57:25.021203",
     "status": "completed"
    },
    "tags": []
   },
   "outputs": [
    {
     "name": "stdout",
     "output_type": "stream",
     "text": [
      "920 examples in training, 433 examples in testing.\n"
     ]
    }
   ],
   "source": [
    "def split_dataset(dataset, test_ratio=0.30):\n",
    "  test_indices = np.random.rand(len(dataset)) < test_ratio\n",
    "  return dataset[~test_indices], dataset[test_indices]\n",
    "\n",
    "train_ds_pd, valid_ds_pd = split_dataset(dataset_df)\n",
    "print(\"{} examples in training, {} examples in testing.\".format(\n",
    "    len(train_ds_pd), len(valid_ds_pd)))"
   ]
  },
  {
   "cell_type": "markdown",
   "id": "c13d387a",
   "metadata": {
    "id": "-hNGPbLlSGvp",
    "papermill": {
     "duration": 0.018646,
     "end_time": "2023-03-17T11:57:25.096391",
     "exception": false,
     "start_time": "2023-03-17T11:57:25.077745",
     "status": "completed"
    },
    "tags": []
   },
   "source": [
    "There's one more step required before we can train the model. We need to convert the datatset from Pandas format (`pd.DataFrame`) into TensorFlow Datasets format (`tf.data.Dataset`).\n",
    "\n",
    "[TensorFlow Datasets](https://www.tensorflow.org/datasets/overview) is a high performance data loading library which is helpful when training neural networks with accelerators like GPUs and TPUs."
   ]
  },
  {
   "cell_type": "markdown",
   "id": "101674db",
   "metadata": {
    "id": "7goqxGx3416p",
    "papermill": {
     "duration": 0.023147,
     "end_time": "2023-03-17T11:57:25.144530",
     "exception": false,
     "start_time": "2023-03-17T11:57:25.121383",
     "status": "completed"
    },
    "tags": []
   },
   "source": [
    "By default the Random Forest Model is configured to train classification tasks. Since this is a regression problem, we will specify the type of the task (`tfdf.keras.Task.REGRESSION`) as a parameter here."
   ]
  },
  {
   "cell_type": "code",
   "execution_count": 20,
   "id": "62bfb1f2",
   "metadata": {
    "execution": {
     "iopub.execute_input": "2023-03-17T11:57:25.192904Z",
     "iopub.status.busy": "2023-03-17T11:57:25.192496Z",
     "iopub.status.idle": "2023-03-17T11:57:25.526656Z",
     "shell.execute_reply": "2023-03-17T11:57:25.525289Z"
    },
    "id": "xQgimfirSGQ9",
    "papermill": {
     "duration": 0.361936,
     "end_time": "2023-03-17T11:57:25.529688",
     "exception": false,
     "start_time": "2023-03-17T11:57:25.167752",
     "status": "completed"
    },
    "tags": []
   },
   "outputs": [
    {
     "name": "stdout",
     "output_type": "stream",
     "text": [
      "Warning: Some of the feature names have been changed automatically to be compatible with SavedModels because fix_feature_names=True.\n"
     ]
    },
    {
     "name": "stderr",
     "output_type": "stream",
     "text": [
      "WARNING:absl:Some of the feature names have been changed automatically to be compatible with SavedModels because fix_feature_names=True.\n"
     ]
    },
    {
     "name": "stdout",
     "output_type": "stream",
     "text": [
      "Warning: Some of the feature names have been changed automatically to be compatible with SavedModels because fix_feature_names=True.\n"
     ]
    },
    {
     "name": "stderr",
     "output_type": "stream",
     "text": [
      "2023-06-11 11:12:36.905298: I tensorflow/compiler/xla/stream_executor/cuda/cuda_gpu_executor.cc:982] could not open file to read NUMA node: /sys/bus/pci/devices/0000:01:00.0/numa_node\n",
      "Your kernel may have been built without NUMA support.\n",
      "2023-06-11 11:12:36.906222: W tensorflow/core/common_runtime/gpu/gpu_device.cc:1956] Cannot dlopen some GPU libraries. Please make sure the missing libraries mentioned above are installed properly if you would like to use GPU. Follow the guide at https://www.tensorflow.org/install/gpu for how to download and setup the required libraries for your platform.\n",
      "Skipping registering GPU devices...\n",
      "WARNING:absl:Some of the feature names have been changed automatically to be compatible with SavedModels because fix_feature_names=True.\n"
     ]
    }
   ],
   "source": [
    "label = 'SalePrice'\n",
    "train_ds = tfdf.keras.pd_dataframe_to_tf_dataset(train_ds_pd, label=label, task = tfdf.keras.Task.REGRESSION)\n",
    "valid_ds = tfdf.keras.pd_dataframe_to_tf_dataset(valid_ds_pd, label=label, task = tfdf.keras.Task.REGRESSION)"
   ]
  },
  {
   "cell_type": "markdown",
   "id": "3d07931e",
   "metadata": {
    "id": "IUG4UKUyTNUu",
    "papermill": {
     "duration": 0.016571,
     "end_time": "2023-03-17T11:57:25.562072",
     "exception": false,
     "start_time": "2023-03-17T11:57:25.545501",
     "status": "completed"
    },
    "tags": []
   },
   "source": [
    "## Select a Model\n",
    "\n",
    "There are several tree-based models for you to choose from.\n",
    "\n",
    "* RandomForestModel\n",
    "* GradientBoostedTreesModel\n",
    "* CartModel\n",
    "* DistributedGradientBoostedTreesModel\n",
    "\n",
    "To start, we'll work with a Random Forest. This is the most well-known of the Decision Forest training algorithms.\n",
    "\n",
    "A Random Forest is a collection of decision trees, each trained independently on a random subset of the training dataset (sampled with replacement). The algorithm is unique in that it is robust to overfitting, and easy to use."
   ]
  },
  {
   "cell_type": "markdown",
   "id": "2a736a64",
   "metadata": {
    "id": "VJSwNUdb416p",
    "papermill": {
     "duration": 0.015916,
     "end_time": "2023-03-17T11:57:25.593819",
     "exception": false,
     "start_time": "2023-03-17T11:57:25.577903",
     "status": "completed"
    },
    "tags": []
   },
   "source": [
    "We can list the all the available models in TensorFlow Decision Forests using the following code:"
   ]
  },
  {
   "cell_type": "code",
   "execution_count": 21,
   "id": "27309627",
   "metadata": {
    "execution": {
     "iopub.execute_input": "2023-03-17T11:57:25.628475Z",
     "iopub.status.busy": "2023-03-17T11:57:25.627365Z",
     "iopub.status.idle": "2023-03-17T11:57:25.635597Z",
     "shell.execute_reply": "2023-03-17T11:57:25.634272Z"
    },
    "id": "MFmnkRR_Ui9w",
    "papermill": {
     "duration": 0.02925,
     "end_time": "2023-03-17T11:57:25.639018",
     "exception": false,
     "start_time": "2023-03-17T11:57:25.609768",
     "status": "completed"
    },
    "tags": []
   },
   "outputs": [
    {
     "data": {
      "text/plain": [
       "[tensorflow_decision_forests.keras.RandomForestModel,\n",
       " tensorflow_decision_forests.keras.GradientBoostedTreesModel,\n",
       " tensorflow_decision_forests.keras.CartModel,\n",
       " tensorflow_decision_forests.keras.DistributedGradientBoostedTreesModel]"
      ]
     },
     "execution_count": 21,
     "metadata": {},
     "output_type": "execute_result"
    }
   ],
   "source": [
    "tfdf.keras.get_all_models()"
   ]
  },
  {
   "cell_type": "markdown",
   "id": "ed762726",
   "metadata": {
    "id": "LiFn716FnMVQ",
    "papermill": {
     "duration": 0.015587,
     "end_time": "2023-03-17T11:57:25.671007",
     "exception": false,
     "start_time": "2023-03-17T11:57:25.655420",
     "status": "completed"
    },
    "tags": []
   },
   "source": [
    "## How can I configure them?\n",
    "\n",
    "TensorFlow Decision Forests provides good defaults for you (e.g. the top ranking hyperparameters on our benchmarks, slightly modified to run in reasonable time). If you would like to configure the learning algorithm, you will find many options you can explore to get the highest possible accuracy.\n",
    "\n",
    "You can select a template and/or set parameters as follows:\n",
    "\n",
    "```rf = tfdf.keras.RandomForestModel(hyperparameter_template=\"benchmark_rank1\", task=tfdf.keras.Task.REGRESSION)```\n",
    "\n",
    "Read more [here](https://www.tensorflow.org/decision_forests/api_docs/python/tfdf/keras/RandomForestModel)."
   ]
  },
  {
   "cell_type": "markdown",
   "id": "170d2a38",
   "metadata": {
    "id": "irxAS91IRVAX",
    "papermill": {
     "duration": 0.015422,
     "end_time": "2023-03-17T11:57:25.702129",
     "exception": false,
     "start_time": "2023-03-17T11:57:25.686707",
     "status": "completed"
    },
    "tags": []
   },
   "source": [
    "\n"
   ]
  },
  {
   "cell_type": "markdown",
   "id": "099ff160",
   "metadata": {
    "id": "AUt4j8fLWRlR",
    "papermill": {
     "duration": 0.015793,
     "end_time": "2023-03-17T11:57:25.733727",
     "exception": false,
     "start_time": "2023-03-17T11:57:25.717934",
     "status": "completed"
    },
    "tags": []
   },
   "source": [
    "## Create a Random Forest\n",
    "\n",
    "Today, we will use the defaults to create the Random Forest Model while specifiyng the task type as `tfdf.keras.Task.REGRESSION`."
   ]
  },
  {
   "cell_type": "code",
   "execution_count": 22,
   "id": "04612924",
   "metadata": {
    "execution": {
     "iopub.execute_input": "2023-03-17T11:57:25.768504Z",
     "iopub.status.busy": "2023-03-17T11:57:25.767391Z",
     "iopub.status.idle": "2023-03-17T11:57:25.828800Z",
     "shell.execute_reply": "2023-03-17T11:57:25.827600Z"
    },
    "id": "O7bqOQMYTRXZ",
    "papermill": {
     "duration": 0.081992,
     "end_time": "2023-03-17T11:57:25.831724",
     "exception": false,
     "start_time": "2023-03-17T11:57:25.749732",
     "status": "completed"
    },
    "tags": []
   },
   "outputs": [
    {
     "name": "stdout",
     "output_type": "stream",
     "text": [
      "Use /tmp/tmped_y1d9e as temporary training directory\n"
     ]
    }
   ],
   "source": [
    "rf = tfdf.keras.RandomForestModel(task = tfdf.keras.Task.REGRESSION)\n",
    "rf.compile(metrics=[\"mse\"]) # Optional, you can use this to include a list of eval metrics"
   ]
  },
  {
   "cell_type": "markdown",
   "id": "7201e376",
   "metadata": {
    "id": "0CzJ5_sh91Yt",
    "papermill": {
     "duration": 0.015737,
     "end_time": "2023-03-17T11:57:25.863631",
     "exception": false,
     "start_time": "2023-03-17T11:57:25.847894",
     "status": "completed"
    },
    "tags": []
   },
   "source": [
    "## Train the model\n",
    "\n",
    "We will train the model using a one-liner.\n",
    "\n",
    "Note: you may see a warning about Autograph. You can safely ignore this, it will be fixed in the next release."
   ]
  },
  {
   "cell_type": "code",
   "execution_count": 23,
   "id": "e48c8be8",
   "metadata": {
    "execution": {
     "iopub.execute_input": "2023-03-17T11:57:25.898324Z",
     "iopub.status.busy": "2023-03-17T11:57:25.896892Z",
     "iopub.status.idle": "2023-03-17T11:57:38.279953Z",
     "shell.execute_reply": "2023-03-17T11:57:38.278704Z"
    },
    "id": "Ax6RircN92LW",
    "papermill": {
     "duration": 12.403199,
     "end_time": "2023-03-17T11:57:38.282645",
     "exception": false,
     "start_time": "2023-03-17T11:57:25.879446",
     "status": "completed"
    },
    "tags": []
   },
   "outputs": [
    {
     "name": "stdout",
     "output_type": "stream",
     "text": [
      "Reading training dataset...\n"
     ]
    },
    {
     "name": "stderr",
     "output_type": "stream",
     "text": [
      "2023-06-11 11:12:37.509743: I tensorflow/core/common_runtime/executor.cc:1197] [/device:CPU:0] (DEBUG INFO) Executor start aborting (this does not indicate an error and you can ignore this message): INVALID_ARGUMENT: You must feed a value for placeholder tensor 'Placeholder/_6' with dtype string and shape [920]\n",
      "\t [[{{node Placeholder/_6}}]]\n"
     ]
    },
    {
     "name": "stdout",
     "output_type": "stream",
     "text": [
      "Training dataset read in 0:00:04.084673. Found 920 examples.\n",
      "Training model...\n"
     ]
    },
    {
     "name": "stderr",
     "output_type": "stream",
     "text": [
      "[INFO 23-06-11 11:12:41.9451 AEST kernel.cc:1242] Loading model from path /tmp/tmped_y1d9e/model/ with prefix dbe1e6cb2d35426d\n"
     ]
    },
    {
     "name": "stdout",
     "output_type": "stream",
     "text": [
      "Model trained in 0:00:00.718772\n",
      "Compiling model...\n"
     ]
    },
    {
     "name": "stderr",
     "output_type": "stream",
     "text": [
      "[INFO 23-06-11 11:12:42.2673 AEST decision_forest.cc:660] Model loaded with 300 root(s), 86294 node(s), and 15 input feature(s).\n",
      "[INFO 23-06-11 11:12:42.2673 AEST abstract_model.cc:1311] Engine \"RandomForestOptPred\" built\n",
      "[INFO 23-06-11 11:12:42.2673 AEST kernel.cc:1074] Use fast generic engine\n",
      "2023-06-11 11:12:42.315910: I tensorflow/core/common_runtime/executor.cc:1197] [/device:CPU:0] (DEBUG INFO) Executor start aborting (this does not indicate an error and you can ignore this message): INVALID_ARGUMENT: You must feed a value for placeholder tensor 'Placeholder/_5' with dtype int64 and shape [920]\n",
      "\t [[{{node Placeholder/_5}}]]\n"
     ]
    },
    {
     "name": "stdout",
     "output_type": "stream",
     "text": [
      "WARNING:tensorflow:AutoGraph could not transform <function simple_ml_inference_op_with_handle at 0x7f6e984370a0> and will run it as-is.\n",
      "Please report this to the TensorFlow team. When filing the bug, set the verbosity to 10 (on Linux, `export AUTOGRAPH_VERBOSITY=10`) and attach the full output.\n",
      "Cause: could not get source code\n",
      "To silence this warning, decorate the function with @tf.autograph.experimental.do_not_convert\n"
     ]
    },
    {
     "name": "stderr",
     "output_type": "stream",
     "text": [
      "WARNING:tensorflow:AutoGraph could not transform <function simple_ml_inference_op_with_handle at 0x7f6e984370a0> and will run it as-is.\n",
      "Please report this to the TensorFlow team. When filing the bug, set the verbosity to 10 (on Linux, `export AUTOGRAPH_VERBOSITY=10`) and attach the full output.\n",
      "Cause: could not get source code\n",
      "To silence this warning, decorate the function with @tf.autograph.experimental.do_not_convert\n"
     ]
    },
    {
     "name": "stdout",
     "output_type": "stream",
     "text": [
      "WARNING: AutoGraph could not transform <function simple_ml_inference_op_with_handle at 0x7f6e984370a0> and will run it as-is.\n",
      "Please report this to the TensorFlow team. When filing the bug, set the verbosity to 10 (on Linux, `export AUTOGRAPH_VERBOSITY=10`) and attach the full output.\n",
      "Cause: could not get source code\n",
      "To silence this warning, decorate the function with @tf.autograph.experimental.do_not_convert\n",
      "Model compiled.\n"
     ]
    },
    {
     "data": {
      "text/plain": [
       "<keras.callbacks.History at 0x7f6e93c39f60>"
      ]
     },
     "execution_count": 23,
     "metadata": {},
     "output_type": "execute_result"
    }
   ],
   "source": [
    "rf.fit(x=train_ds)"
   ]
  },
  {
   "cell_type": "markdown",
   "id": "aa702ab4",
   "metadata": {
    "id": "C1HJ6KxRT7IR",
    "papermill": {
     "duration": 0.015822,
     "end_time": "2023-03-17T11:57:38.315524",
     "exception": false,
     "start_time": "2023-03-17T11:57:38.299702",
     "status": "completed"
    },
    "tags": []
   },
   "source": [
    "## Visualize the model\n",
    "One benefit of tree-based models is that you can easily visualize them. The default number of trees used in the Random Forests is 300. We can select a tree to display below."
   ]
  },
  {
   "cell_type": "code",
   "execution_count": 24,
   "id": "81e7d91c",
   "metadata": {
    "execution": {
     "iopub.execute_input": "2023-03-17T11:57:38.350307Z",
     "iopub.status.busy": "2023-03-17T11:57:38.349469Z",
     "iopub.status.idle": "2023-03-17T11:57:38.373578Z",
     "shell.execute_reply": "2023-03-17T11:57:38.372496Z"
    },
    "id": "mTx73NgET9f8",
    "papermill": {
     "duration": 0.04424,
     "end_time": "2023-03-17T11:57:38.376164",
     "exception": false,
     "start_time": "2023-03-17T11:57:38.331924",
     "status": "completed"
    },
    "tags": []
   },
   "outputs": [],
   "source": [
    "# tfdf.model_plotter.plot_model(rf, tree_idx=0, max_depth=3)\n",
    "with open(\"model.html\", \"w\") as html_file:\n",
    "    html_file.write(tfdf.model_plotter.plot_model(rf, tree_idx=0, max_depth=10))"
   ]
  },
  {
   "cell_type": "markdown",
   "id": "baa30cc0",
   "metadata": {
    "id": "fazbJOgUT1n4",
    "papermill": {
     "duration": 0.016874,
     "end_time": "2023-03-17T11:57:38.410238",
     "exception": false,
     "start_time": "2023-03-17T11:57:38.393364",
     "status": "completed"
    },
    "tags": []
   },
   "source": [
    "## Evaluate the model on the Out of bag (OOB) data and the validation dataset\n",
    "\n",
    "Before training the dataset we have manually seperated 20% of the dataset for validation named as `valid_ds`.\n",
    "\n",
    "We can also use Out of bag (OOB) score to validate our RandomForestModel.\n",
    "To train a Random Forest Model, a set of random samples from training set are choosen by the algorithm and the rest of the samples are used to finetune the model.The subset of data that is not chosen is known as Out of bag data (OOB).\n",
    "OOB score is computed on the OOB data.\n",
    "\n",
    "Read more about OOB data [here](https://developers.google.com/machine-learning/decision-forests/out-of-bag).\n",
    "\n",
    "The training logs show the Root Mean Squared Error (RMSE) evaluated on the out-of-bag dataset according to the number of trees in the model. Let us plot this.\n",
    "\n",
    "Note: Smaller values are better for this hyperparameter."
   ]
  },
  {
   "cell_type": "code",
   "execution_count": 25,
   "id": "ac7c2cc0",
   "metadata": {
    "execution": {
     "iopub.execute_input": "2023-03-17T11:57:38.446279Z",
     "iopub.status.busy": "2023-03-17T11:57:38.445856Z",
     "iopub.status.idle": "2023-03-17T11:57:38.664909Z",
     "shell.execute_reply": "2023-03-17T11:57:38.663836Z"
    },
    "id": "ryddKoqLWrTp",
    "papermill": {
     "duration": 0.240189,
     "end_time": "2023-03-17T11:57:38.667520",
     "exception": false,
     "start_time": "2023-03-17T11:57:38.427331",
     "status": "completed"
    },
    "tags": []
   },
   "outputs": [
    {
     "data": {
      "image/png": "[encoded data removed]",
      "text/plain": [
       "<Figure size 640x480 with 1 Axes>"
      ]
     },
     "metadata": {},
     "output_type": "display_data"
    }
   ],
   "source": [
    "import matplotlib.pyplot as plt\n",
    "logs = rf.make_inspector().training_logs()\n",
    "plt.plot([log.num_trees for log in logs], [log.evaluation.rmse for log in logs])\n",
    "plt.xlabel(\"Number of trees\")\n",
    "plt.ylabel(\"RMSE (out-of-bag)\")\n",
    "plt.show()"
   ]
  },
  {
   "cell_type": "markdown",
   "id": "89561075",
   "metadata": {
    "id": "Y-yMMsK5-3Mr",
    "papermill": {
     "duration": 0.017087,
     "end_time": "2023-03-17T11:57:38.702346",
     "exception": false,
     "start_time": "2023-03-17T11:57:38.685259",
     "status": "completed"
    },
    "tags": []
   },
   "source": [
    "We can also see some general stats on the OOB dataset:"
   ]
  },
  {
   "cell_type": "code",
   "execution_count": 26,
   "id": "32aad80d",
   "metadata": {
    "execution": {
     "iopub.execute_input": "2023-03-17T11:57:38.739901Z",
     "iopub.status.busy": "2023-03-17T11:57:38.738929Z",
     "iopub.status.idle": "2023-03-17T11:57:38.747322Z",
     "shell.execute_reply": "2023-03-17T11:57:38.746518Z"
    },
    "id": "gdY8DvriTxky",
    "papermill": {
     "duration": 0.02967,
     "end_time": "2023-03-17T11:57:38.749511",
     "exception": false,
     "start_time": "2023-03-17T11:57:38.719841",
     "status": "completed"
    },
    "tags": []
   },
   "outputs": [
    {
     "data": {
      "text/plain": [
       "Evaluation(num_examples=920, accuracy=None, loss=None, rmse=84746.99317172189, ndcg=None, aucs=None, auuc=None, qini=None)"
      ]
     },
     "execution_count": 26,
     "metadata": {},
     "output_type": "execute_result"
    }
   ],
   "source": [
    "inspector = rf.make_inspector()\n",
    "inspector.evaluation()"
   ]
  },
  {
   "attachments": {},
   "cell_type": "markdown",
   "id": "57fe45a9",
   "metadata": {},
   "source": [
    "### Normalized Root Mean Square Error\n",
    "\n",
    "The Normalized Root Mean Square Error (NRMSE) the RMSE facilitates the comparison between models with different scales. The normalised RMSE (NRMSE) which relates the RMSE to the observed range of the variable. Thus, the NRMSE can be interpreted as a fraction of the overall range that is typically resolved by the model."
   ]
  },
  {
   "cell_type": "code",
   "execution_count": 27,
   "id": "c655e6c1",
   "metadata": {},
   "outputs": [
    {
     "name": "stdout",
     "output_type": "stream",
     "text": [
      "RMSE $84746.99 Mean of SalePrice $266666.78 giving NRMSE 31.78%\n"
     ]
    }
   ],
   "source": [
    "rmse = inspector.evaluation().rmse\n",
    "obs_mean = dataset_df['SalePrice'].mean()\n",
    "nrmse = (rmse/obs_mean)\n",
    "print(f\"RMSE ${rmse:.2f} Mean of SalePrice ${obs_mean:.2f} giving NRMSE {nrmse:.2%}\")"
   ]
  },
  {
   "cell_type": "markdown",
   "id": "a464b335",
   "metadata": {},
   "source": [
    "Now, let us run an evaluation using the validation dataset."
   ]
  },
  {
   "cell_type": "code",
   "execution_count": 28,
   "id": "fdc19d22",
   "metadata": {
    "execution": {
     "iopub.execute_input": "2023-03-17T11:57:38.822876Z",
     "iopub.status.busy": "2023-03-17T11:57:38.822219Z",
     "iopub.status.idle": "2023-03-17T11:57:39.566447Z",
     "shell.execute_reply": "2023-03-17T11:57:39.564871Z"
    },
    "id": "39x97YqWZlgm",
    "papermill": {
     "duration": 0.767249,
     "end_time": "2023-03-17T11:57:39.569196",
     "exception": false,
     "start_time": "2023-03-17T11:57:38.801947",
     "status": "completed"
    },
    "tags": []
   },
   "outputs": [
    {
     "name": "stderr",
     "output_type": "stream",
     "text": [
      "2023-06-11 11:12:45.469743: I tensorflow/core/common_runtime/executor.cc:1197] [/device:CPU:0] (DEBUG INFO) Executor start aborting (this does not indicate an error and you can ignore this message): INVALID_ARGUMENT: You must feed a value for placeholder tensor 'Placeholder/_7' with dtype double and shape [433]\n",
      "\t [[{{node Placeholder/_7}}]]\n"
     ]
    },
    {
     "name": "stdout",
     "output_type": "stream",
     "text": [
      "1/1 [==============================] - 1s 509ms/step - loss: 0.0000e+00 - mse: 7936399360.0000\n",
      "loss: 0.0000\n",
      "mse: 7936399360.0000\n"
     ]
    }
   ],
   "source": [
    "evaluation = rf.evaluate(x=valid_ds,return_dict=True)\n",
    "\n",
    "for name, value in evaluation.items():\n",
    "  print(f\"{name}: {value:.4f}\")"
   ]
  },
  {
   "cell_type": "markdown",
   "id": "fb286071",
   "metadata": {
    "id": "LWWqqDLM7WdZ",
    "papermill": {
     "duration": 0.018288,
     "end_time": "2023-03-17T11:57:39.605706",
     "exception": false,
     "start_time": "2023-03-17T11:57:39.587418",
     "status": "completed"
    },
    "tags": []
   },
   "source": [
    "## Variable importances\n",
    "\n",
    "Variable importances generally indicate how much a feature contributes to the model predictions or quality. There are several ways to identify important features using TensorFlow Decision Forests.\n",
    "Let us list the available `Variable Importances` for Decision Trees:"
   ]
  },
  {
   "cell_type": "code",
   "execution_count": 29,
   "id": "7950607a",
   "metadata": {
    "execution": {
     "iopub.execute_input": "2023-03-17T11:57:39.643891Z",
     "iopub.status.busy": "2023-03-17T11:57:39.643495Z",
     "iopub.status.idle": "2023-03-17T11:57:39.650820Z",
     "shell.execute_reply": "2023-03-17T11:57:39.649521Z"
    },
    "id": "xok16_jMgGZH",
    "papermill": {
     "duration": 0.02912,
     "end_time": "2023-03-17T11:57:39.653227",
     "exception": false,
     "start_time": "2023-03-17T11:57:39.624107",
     "status": "completed"
    },
    "tags": []
   },
   "outputs": [
    {
     "name": "stdout",
     "output_type": "stream",
     "text": [
      "Available variable importances:\n",
      "\t INV_MEAN_MIN_DEPTH\n",
      "\t SUM_SCORE\n",
      "\t NUM_AS_ROOT\n",
      "\t NUM_NODES\n"
     ]
    }
   ],
   "source": [
    "print(f\"Available variable importances:\")\n",
    "for importance in inspector.variable_importances().keys():\n",
    "  print(\"\\t\", importance)"
   ]
  },
  {
   "cell_type": "markdown",
   "id": "c585172c",
   "metadata": {
    "id": "USvNgqBR_JR2",
    "papermill": {
     "duration": 0.01736,
     "end_time": "2023-03-17T11:57:39.688386",
     "exception": false,
     "start_time": "2023-03-17T11:57:39.671026",
     "status": "completed"
    },
    "tags": []
   },
   "source": [
    "As an example, let us display the important features for the Variable Importance `NUM_AS_ROOT`.\n",
    "\n",
    "The larger the importance score for `NUM_AS_ROOT`, the more impact it has on the outcome of the model.\n",
    "\n",
    "By default, the list is sorted from the most important to the least. From the output you can infer that the feature at the top of the list is used as the root node in most number of trees in the random forest than any other feature."
   ]
  },
  {
   "cell_type": "code",
   "execution_count": 30,
   "id": "061d11ad",
   "metadata": {
    "execution": {
     "iopub.execute_input": "2023-03-17T11:57:39.726737Z",
     "iopub.status.busy": "2023-03-17T11:57:39.725933Z",
     "iopub.status.idle": "2023-03-17T11:57:39.733513Z",
     "shell.execute_reply": "2023-03-17T11:57:39.732596Z"
    },
    "id": "eI073gJHgHxr",
    "papermill": {
     "duration": 0.02948,
     "end_time": "2023-03-17T11:57:39.735523",
     "exception": false,
     "start_time": "2023-03-17T11:57:39.706043",
     "status": "completed"
    },
    "tags": []
   },
   "outputs": [
    {
     "data": {
      "text/plain": [
       "[(\"YearBuilt\" (4; #13), 125.0),\n",
       " (\"Bed_x\" (1; #1), 85.0),\n",
       " (\"YrSaleDate\" (1; #14), 54.0),\n",
       " (\"Car_x\" (1; #3), 25.0),\n",
       " (\"LandUse1\" (4; #6), 6.0),\n",
       " (\"Bath_x\" (1; #0), 3.0),\n",
       " (\"LandSize\" (1; #5), 2.0)]"
      ]
     },
     "execution_count": 30,
     "metadata": {},
     "output_type": "execute_result"
    }
   ],
   "source": [
    "inspector.variable_importances()[\"NUM_AS_ROOT\"]"
   ]
  },
  {
   "cell_type": "markdown",
   "id": "32266ecd",
   "metadata": {
    "id": "qiASD3ei52H6",
    "papermill": {
     "duration": 0.017916,
     "end_time": "2023-03-17T11:57:39.771571",
     "exception": false,
     "start_time": "2023-03-17T11:57:39.753655",
     "status": "completed"
    },
    "tags": []
   },
   "source": [
    "Plot the variable importances from the inspector using Matplotlib"
   ]
  },
  {
   "cell_type": "code",
   "execution_count": 31,
   "id": "d6f8a462",
   "metadata": {
    "execution": {
     "iopub.execute_input": "2023-03-17T11:57:39.810004Z",
     "iopub.status.busy": "2023-03-17T11:57:39.808837Z",
     "iopub.status.idle": "2023-03-17T11:57:40.157428Z",
     "shell.execute_reply": "2023-03-17T11:57:40.156405Z"
    },
    "id": "cyyzelTl53AH",
    "papermill": {
     "duration": 0.370519,
     "end_time": "2023-03-17T11:57:40.160048",
     "exception": false,
     "start_time": "2023-03-17T11:57:39.789529",
     "status": "completed"
    },
    "tags": []
   },
   "outputs": [
    {
     "data": {
      "image/png": "[encoded data removed]",
      "text/plain": [
       "<Figure size 1200x400 with 1 Axes>"
      ]
     },
     "metadata": {},
     "output_type": "display_data"
    }
   ],
   "source": [
    "plt.figure(figsize=(12, 4))\n",
    "\n",
    "# Mean decrease in AUC of the class 1 vs the others.\n",
    "variable_importance_metric = \"NUM_AS_ROOT\"\n",
    "variable_importances = inspector.variable_importances()[variable_importance_metric]\n",
    "\n",
    "# Extract the feature name and importance values.\n",
    "#\n",
    "# `variable_importances` is a list of <feature, importance> tuples.\n",
    "feature_names = [vi[0].name for vi in variable_importances]\n",
    "feature_importances = [vi[1] for vi in variable_importances]\n",
    "# The feature are ordered in decreasing importance value.\n",
    "feature_ranks = range(len(feature_names))\n",
    "\n",
    "bar = plt.barh(feature_ranks, feature_importances, label=[str(x) for x in feature_ranks])\n",
    "plt.yticks(feature_ranks, feature_names)\n",
    "plt.gca().invert_yaxis()\n",
    "\n",
    "# TODO: Replace with \"plt.bar_label()\" when available.\n",
    "# Label each bar with values\n",
    "for importance, patch in zip(feature_importances, bar.patches):\n",
    "  plt.text(patch.get_x() + patch.get_width(), patch.get_y(), f\"{importance:.4f}\", va=\"top\")\n",
    "\n",
    "plt.xlabel(variable_importance_metric)\n",
    "plt.title(\"NUM AS ROOT of the class 1 vs the others\")\n",
    "plt.tight_layout()\n",
    "plt.show()"
   ]
  },
  {
   "attachments": {},
   "cell_type": "markdown",
   "id": "a865f451",
   "metadata": {
    "id": "jM9uB_7T416r",
    "papermill": {
     "duration": 0.018432,
     "end_time": "2023-03-17T11:57:40.197389",
     "exception": false,
     "start_time": "2023-03-17T11:57:40.178957",
     "status": "completed"
    },
    "tags": []
   },
   "source": [
    "# Submission\n",
    "Finally predict on the competition test data using the model.  Save the finished test model as a new file, input that into the model and produce the predictions."
   ]
  },
  {
   "attachments": {},
   "cell_type": "markdown",
   "id": "92e8a725",
   "metadata": {},
   "source": [
    "The original dataset, including all null values and before cleanup, should be the test data.  This was created as 'testdata_df' from original dataset after categorisation etc but before columns were dropped as redundant to model training.\n",
    "Need to add a column called 'PredPrice' to the testdata_df dataframe.\n",
    "Delete and re-format any data in the testdata that are not used in the model.\n",
    "Use the model on the test data.\n",
    "Output the predicted prices and test data ID's into a new file. "
   ]
  },
  {
   "cell_type": "code",
   "execution_count": 42,
   "id": "2c814881",
   "metadata": {
    "execution": {
     "iopub.execute_input": "2023-03-17T11:57:40.236802Z",
     "iopub.status.busy": "2023-03-17T11:57:40.236349Z",
     "iopub.status.idle": "2023-03-17T11:57:41.345647Z",
     "shell.execute_reply": "2023-03-17T11:57:41.344348Z"
    },
    "id": "gLySv9yJ416s",
    "papermill": {
     "duration": 1.132583,
     "end_time": "2023-03-17T11:57:41.348510",
     "exception": false,
     "start_time": "2023-03-17T11:57:40.215927",
     "status": "completed"
    },
    "tags": []
   },
   "outputs": [
    {
     "name": "stdout",
     "output_type": "stream",
     "text": [
      "Warning: Some of the feature names have been changed automatically to be compatible with SavedModels because fix_feature_names=True.\n"
     ]
    },
    {
     "name": "stderr",
     "output_type": "stream",
     "text": [
      "WARNING:absl:Some of the feature names have been changed automatically to be compatible with SavedModels because fix_feature_names=True.\n",
      "2023-06-11 11:51:42.121217: I tensorflow/core/common_runtime/executor.cc:1197] [/device:CPU:0] (DEBUG INFO) Executor start aborting (this does not indicate an error and you can ignore this message): INVALID_ARGUMENT: You must feed a value for placeholder tensor 'Placeholder/_14' with dtype string and shape [1353]\n",
      "\t [[{{node Placeholder/_14}}]]\n"
     ]
    },
    {
     "ename": "ValueError",
     "evalue": "in user code:\n\n    File \"/home/barrettjason/.local/lib/python3.10/site-packages/tensorflow_decision_forests/keras/core_inference.py\", line 458, in run_step  *\n        outputs = model.predict_step(data)\n    File \"/home/barrettjason/.local/lib/python3.10/site-packages/keras/engine/training.py\", line 2111, in predict_step  **\n        return self(x, training=False)\n    File \"/home/barrettjason/.local/lib/python3.10/site-packages/keras/utils/traceback_utils.py\", line 70, in error_handler\n        raise e.with_traceback(filtered_tb) from None\n    File \"/tmp/__autograph_generated_filev2dex50e.py\", line 104, in tf__call\n        ag__.if_stmt(ag__.ld(self)._semantics is None, if_body_2, else_body_2, get_state_3, set_state_3, ('do_return', 'retval_'), 2)\n    File \"/tmp/__autograph_generated_filev2dex50e.py\", line 43, in else_body_2\n        normalized_inputs = ag__.converted_call(ag__.ld(self)._build_normalized_inputs, (ag__.ld(inputs),), None, fscope)\n    File \"/tmp/__autograph_generated_file3n30b4ge.py\", line 98, in tf___build_normalized_inputs\n        semantic_inputs = ag__.converted_call(ag__.ld(tf_core).combine_tensors_and_semantics, (ag__.ld(inputs), ag__.ld(self)._semantics), None, fscope)\n    File \"/tmp/__autograph_generated_file0s_ftu11.py\", line 34, in tf__combine_tensors_and_semantics\n        ag__.if_stmt(ag__.not_(ag__.converted_call(ag__.converted_call(ag__.ld(set), (ag__.converted_call(ag__.ld(semantics).keys, (), None, fscope),), None, fscope).issubset, (ag__.converted_call(ag__.ld(inputs).keys, (), None, fscope),), None, fscope)), if_body, else_body, get_state, set_state, (), 0)\n    File \"/tmp/__autograph_generated_file0s_ftu11.py\", line 30, in if_body\n        raise ag__.converted_call(ag__.ld(ValueError), (ag__.converted_call('semantics is not a subset of inputs (inputs={} vs semantics={}).'.format, (ag__.converted_call(ag__.ld(inputs).keys, (), None, fscope), ag__.converted_call(ag__.ld(semantics).keys, (), None, fscope)), None, fscope),), None, fscope)\n\n    ValueError: Exception encountered when calling layer 'random_forest_model' (type RandomForestModel).\n    \n    in user code:\n    \n        File \"/home/barrettjason/.local/lib/python3.10/site-packages/tensorflow_decision_forests/keras/core_inference.py\", line 644, in call  *\n            normalized_inputs = self._build_normalized_inputs(inputs)\n        File \"/home/barrettjason/.local/lib/python3.10/site-packages/tensorflow_decision_forests/keras/core_inference.py\", line 603, in _build_normalized_inputs  *\n            semantic_inputs = tf_core.combine_tensors_and_semantics(\n        File \"/home/barrettjason/.local/lib/python3.10/site-packages/tensorflow_decision_forests/tensorflow/core_inference.py\", line 431, in combine_tensors_and_semantics  *\n            raise ValueError(\"semantics is not a subset of inputs \"\n    \n        ValueError: semantics is not a subset of inputs (inputs=dict_keys(['Property_Type/Category', 'Bed_x', 'Bath_x', 'Car_x', 'LandSize', 'BuildingArea', 'SalePrice', 'SaleType', 'LandUse1', 'Zoning', 'DevelopmentZone', 'ValuationType', 'ValuationAmount', 'YearBuilt', 'YrSaleDate', 'MthSaleDate', 'YrValuationDate', 'MthValuationDate']) vs semantics=dict_keys(['Property_Type/Category', 'Bed_x', 'Bath_x', 'Car_x', 'LandSize', 'BuildingArea', 'SaleType', 'LandUse1', 'Zoning', 'DevelopmentZone', 'ValuationType', 'ValuationAmount', 'rppid', 'YearBuilt', 'YrSaleDate', 'MthSaleDate', 'YrValuationDate', 'MthValuationDate'])).\n    \n    \n    Call arguments received by layer 'random_forest_model' (type RandomForestModel):\n      • inputs={'Property_Type/Category': 'tf.Tensor(shape=(None,), dtype=string)', 'Bed_x': 'tf.Tensor(shape=(None,), dtype=float32)', 'Bath_x': 'tf.Tensor(shape=(None,), dtype=float32)', 'Car_x': 'tf.Tensor(shape=(None,), dtype=float32)', 'LandSize': 'tf.Tensor(shape=(None,), dtype=int64)', 'BuildingArea': 'tf.Tensor(shape=(None,), dtype=float32)', 'SalePrice': 'tf.Tensor(shape=(None,), dtype=float32)', 'SaleType': 'tf.Tensor(shape=(None,), dtype=string)', 'LandUse1': 'tf.Tensor(shape=(None,), dtype=string)', 'Zoning': 'tf.Tensor(shape=(None,), dtype=string)', 'DevelopmentZone': 'tf.Tensor(shape=(None,), dtype=string)', 'ValuationType': 'tf.Tensor(shape=(None,), dtype=string)', 'ValuationAmount': 'tf.Tensor(shape=(None,), dtype=float32)', 'YearBuilt': 'tf.Tensor(shape=(None,), dtype=string)', 'YrSaleDate': 'tf.Tensor(shape=(None,), dtype=float32)', 'MthSaleDate': 'tf.Tensor(shape=(None,), dtype=float32)', 'YrValuationDate': 'tf.Tensor(shape=(None,), dtype=float32)', 'MthValuationDate': 'tf.Tensor(shape=(None,), dtype=float32)'}\n      • training=False\n",
     "output_type": "error",
     "traceback": [
      "\u001b[0;31m---------------------------------------------------------------------------\u001b[0m",
      "\u001b[0;31mValueError\u001b[0m                                Traceback (most recent call last)",
      "Cell \u001b[0;32mIn[42], line 41\u001b[0m\n\u001b[1;32m     35\u001b[0m label\u001b[39m=\u001b[39m \u001b[39m'\u001b[39m\u001b[39mPredPrice\u001b[39m\u001b[39m'\u001b[39m\n\u001b[1;32m     36\u001b[0m test_ds \u001b[39m=\u001b[39m tfdf\u001b[39m.\u001b[39mkeras\u001b[39m.\u001b[39mpd_dataframe_to_tf_dataset(\n\u001b[1;32m     37\u001b[0m     test_data,\n\u001b[1;32m     38\u001b[0m     label\u001b[39m=\u001b[39mlabel,\n\u001b[1;32m     39\u001b[0m     task \u001b[39m=\u001b[39m tfdf\u001b[39m.\u001b[39mkeras\u001b[39m.\u001b[39mTask\u001b[39m.\u001b[39mREGRESSION)\n\u001b[0;32m---> 41\u001b[0m preds \u001b[39m=\u001b[39m rf\u001b[39m.\u001b[39;49mpredict(test_ds)\n\u001b[1;32m     42\u001b[0m output \u001b[39m=\u001b[39m pd\u001b[39m.\u001b[39mDataFrame({\u001b[39m'\u001b[39m\u001b[39mRppid\u001b[39m\u001b[39m'\u001b[39m: ids,\n\u001b[1;32m     43\u001b[0m                        \u001b[39m'\u001b[39m\u001b[39mSalePriceP\u001b[39m\u001b[39m'\u001b[39m: preds\u001b[39m.\u001b[39msqueeze()})\n\u001b[1;32m     45\u001b[0m output\u001b[39m.\u001b[39mhead()\n",
      "File \u001b[0;32m~/.local/lib/python3.10/site-packages/keras/utils/traceback_utils.py:70\u001b[0m, in \u001b[0;36mfilter_traceback.<locals>.error_handler\u001b[0;34m(*args, **kwargs)\u001b[0m\n\u001b[1;32m     67\u001b[0m     filtered_tb \u001b[39m=\u001b[39m _process_traceback_frames(e\u001b[39m.\u001b[39m__traceback__)\n\u001b[1;32m     68\u001b[0m     \u001b[39m# To get the full stack trace, call:\u001b[39;00m\n\u001b[1;32m     69\u001b[0m     \u001b[39m# `tf.debugging.disable_traceback_filtering()`\u001b[39;00m\n\u001b[0;32m---> 70\u001b[0m     \u001b[39mraise\u001b[39;00m e\u001b[39m.\u001b[39mwith_traceback(filtered_tb) \u001b[39mfrom\u001b[39;00m \u001b[39mNone\u001b[39m\n\u001b[1;32m     71\u001b[0m \u001b[39mfinally\u001b[39;00m:\n\u001b[1;32m     72\u001b[0m     \u001b[39mdel\u001b[39;00m filtered_tb\n",
      "File \u001b[0;32m/tmp/__autograph_generated_filekrt2gbqv.py:43\u001b[0m, in \u001b[0;36mouter_factory.<locals>.inner_factory.<locals>.tf__predict_function_trained\u001b[0;34m(iterator, model)\u001b[0m\n\u001b[1;32m     41\u001b[0m \u001b[39mtry\u001b[39;00m:\n\u001b[1;32m     42\u001b[0m     do_return \u001b[39m=\u001b[39m \u001b[39mTrue\u001b[39;00m\n\u001b[0;32m---> 43\u001b[0m     retval_ \u001b[39m=\u001b[39m ag__\u001b[39m.\u001b[39mconverted_call(ag__\u001b[39m.\u001b[39mld(run_step), (ag__\u001b[39m.\u001b[39mld(data),), \u001b[39mNone\u001b[39;00m, fscope)\n\u001b[1;32m     44\u001b[0m \u001b[39mexcept\u001b[39;00m:\n\u001b[1;32m     45\u001b[0m     do_return \u001b[39m=\u001b[39m \u001b[39mFalse\u001b[39;00m\n",
      "File \u001b[0;32m/tmp/__autograph_generated_filekrt2gbqv.py:30\u001b[0m, in \u001b[0;36mouter_factory.<locals>.inner_factory.<locals>.tf__predict_function_trained.<locals>.run_step\u001b[0;34m(data)\u001b[0m\n\u001b[1;32m     28\u001b[0m do_return_1 \u001b[39m=\u001b[39m \u001b[39mFalse\u001b[39;00m\n\u001b[1;32m     29\u001b[0m retval__1 \u001b[39m=\u001b[39m ag__\u001b[39m.\u001b[39mUndefinedReturnValue()\n\u001b[0;32m---> 30\u001b[0m outputs \u001b[39m=\u001b[39m ag__\u001b[39m.\u001b[39;49mconverted_call(ag__\u001b[39m.\u001b[39;49mld(model)\u001b[39m.\u001b[39;49mpredict_step, (ag__\u001b[39m.\u001b[39;49mld(data),), \u001b[39mNone\u001b[39;49;00m, fscope_1)\n\u001b[1;32m     31\u001b[0m \u001b[39mwith\u001b[39;00m ag__\u001b[39m.\u001b[39mld(tf)\u001b[39m.\u001b[39mcontrol_dependencies(ag__\u001b[39m.\u001b[39mld(_minimum_control_deps)(ag__\u001b[39m.\u001b[39mld(outputs))):\n\u001b[1;32m     32\u001b[0m     ag__\u001b[39m.\u001b[39mconverted_call(ag__\u001b[39m.\u001b[39mld(model)\u001b[39m.\u001b[39m_predict_counter\u001b[39m.\u001b[39massign_add, (\u001b[39m1\u001b[39m,), \u001b[39mNone\u001b[39;00m, fscope_1)\n",
      "File \u001b[0;32m/tmp/__autograph_generated_filev2dex50e.py:104\u001b[0m, in \u001b[0;36mouter_factory.<locals>.inner_factory.<locals>.tf__call\u001b[0;34m(self, inputs, training)\u001b[0m\n\u001b[1;32m    102\u001b[0m predictions \u001b[39m=\u001b[39m ag__\u001b[39m.\u001b[39mUndefined(\u001b[39m'\u001b[39m\u001b[39mpredictions\u001b[39m\u001b[39m'\u001b[39m)\n\u001b[1;32m    103\u001b[0m multitask_item \u001b[39m=\u001b[39m ag__\u001b[39m.\u001b[39mUndefined(\u001b[39m'\u001b[39m\u001b[39mmultitask_item\u001b[39m\u001b[39m'\u001b[39m)\n\u001b[0;32m--> 104\u001b[0m ag__\u001b[39m.\u001b[39;49mif_stmt(ag__\u001b[39m.\u001b[39;49mld(\u001b[39mself\u001b[39;49m)\u001b[39m.\u001b[39;49m_semantics \u001b[39mis\u001b[39;49;00m \u001b[39mNone\u001b[39;49;00m, if_body_2, else_body_2, get_state_3, set_state_3, (\u001b[39m'\u001b[39;49m\u001b[39mdo_return\u001b[39;49m\u001b[39m'\u001b[39;49m, \u001b[39m'\u001b[39;49m\u001b[39mretval_\u001b[39;49m\u001b[39m'\u001b[39;49m), \u001b[39m2\u001b[39;49m)\n\u001b[1;32m    105\u001b[0m \u001b[39mreturn\u001b[39;00m fscope\u001b[39m.\u001b[39mret(retval_, do_return)\n",
      "File \u001b[0;32m/tmp/__autograph_generated_filev2dex50e.py:43\u001b[0m, in \u001b[0;36mouter_factory.<locals>.inner_factory.<locals>.tf__call.<locals>.else_body_2\u001b[0;34m()\u001b[0m\n\u001b[1;32m     41\u001b[0m \u001b[39mdef\u001b[39;00m \u001b[39melse_body_2\u001b[39m():\n\u001b[1;32m     42\u001b[0m     \u001b[39mnonlocal\u001b[39;00m do_return, retval_\n\u001b[0;32m---> 43\u001b[0m     normalized_inputs \u001b[39m=\u001b[39m ag__\u001b[39m.\u001b[39;49mconverted_call(ag__\u001b[39m.\u001b[39;49mld(\u001b[39mself\u001b[39;49m)\u001b[39m.\u001b[39;49m_build_normalized_inputs, (ag__\u001b[39m.\u001b[39;49mld(inputs),), \u001b[39mNone\u001b[39;49;00m, fscope)\n\u001b[1;32m     44\u001b[0m     predictions \u001b[39m=\u001b[39m {}\n\u001b[1;32m     46\u001b[0m     \u001b[39mdef\u001b[39;00m \u001b[39mget_state\u001b[39m():\n",
      "File \u001b[0;32m/tmp/__autograph_generated_file3n30b4ge.py:98\u001b[0m, in \u001b[0;36mouter_factory.<locals>.inner_factory.<locals>.tf___build_normalized_inputs\u001b[0;34m(self, inputs)\u001b[0m\n\u001b[1;32m     96\u001b[0m     ag__\u001b[39m.\u001b[39mif_stmt(ag__\u001b[39m.\u001b[39mconverted_call(ag__\u001b[39m.\u001b[39mld(\u001b[39misinstance\u001b[39m), (ag__\u001b[39m.\u001b[39mld(inputs), ag__\u001b[39m.\u001b[39mld(tf)\u001b[39m.\u001b[39mTensor), \u001b[39mNone\u001b[39;00m, fscope), if_body_3, else_body_3, get_state_3, set_state_3, (\u001b[39m'\u001b[39m\u001b[39minputs\u001b[39m\u001b[39m'\u001b[39m,), \u001b[39m1\u001b[39m)\n\u001b[1;32m     97\u001b[0m ag__\u001b[39m.\u001b[39mif_stmt(ag__\u001b[39m.\u001b[39mconverted_call(ag__\u001b[39m.\u001b[39mld(\u001b[39misinstance\u001b[39m), (ag__\u001b[39m.\u001b[39mld(inputs), ag__\u001b[39m.\u001b[39mld(\u001b[39mdict\u001b[39m)), \u001b[39mNone\u001b[39;00m, fscope), if_body_4, else_body_4, get_state_4, set_state_4, (\u001b[39m'\u001b[39m\u001b[39minputs\u001b[39m\u001b[39m'\u001b[39m,), \u001b[39m1\u001b[39m)\n\u001b[0;32m---> 98\u001b[0m semantic_inputs \u001b[39m=\u001b[39m ag__\u001b[39m.\u001b[39;49mconverted_call(ag__\u001b[39m.\u001b[39;49mld(tf_core)\u001b[39m.\u001b[39;49mcombine_tensors_and_semantics, (ag__\u001b[39m.\u001b[39;49mld(inputs), ag__\u001b[39m.\u001b[39;49mld(\u001b[39mself\u001b[39;49m)\u001b[39m.\u001b[39;49m_semantics), \u001b[39mNone\u001b[39;49;00m, fscope)\n\u001b[1;32m     99\u001b[0m normalized_semantic_inputs \u001b[39m=\u001b[39m ag__\u001b[39m.\u001b[39mconverted_call(ag__\u001b[39m.\u001b[39mld(tf_core)\u001b[39m.\u001b[39mnormalize_inputs, (ag__\u001b[39m.\u001b[39mld(semantic_inputs),), \u001b[39mdict\u001b[39m(categorical_integer_offset_correction\u001b[39m=\u001b[39mag__\u001b[39m.\u001b[39mnot_(ag__\u001b[39m.\u001b[39mld(\u001b[39mself\u001b[39m)\u001b[39m.\u001b[39m_advanced_arguments\u001b[39m.\u001b[39mdisable_categorical_integer_offset_correction)), fscope)\n\u001b[1;32m    100\u001b[0m (normalized_inputs, _) \u001b[39m=\u001b[39m ag__\u001b[39m.\u001b[39mconverted_call(ag__\u001b[39m.\u001b[39mld(tf_core)\u001b[39m.\u001b[39mdecombine_tensors_and_semantics, (ag__\u001b[39m.\u001b[39mld(normalized_semantic_inputs),), \u001b[39mNone\u001b[39;00m, fscope)\n",
      "File \u001b[0;32m/tmp/__autograph_generated_file0s_ftu11.py:34\u001b[0m, in \u001b[0;36mouter_factory.<locals>.inner_factory.<locals>.tf__combine_tensors_and_semantics\u001b[0;34m(inputs, semantics)\u001b[0m\n\u001b[1;32m     32\u001b[0m \u001b[39mdef\u001b[39;00m \u001b[39melse_body\u001b[39m():\n\u001b[1;32m     33\u001b[0m     \u001b[39mpass\u001b[39;00m\n\u001b[0;32m---> 34\u001b[0m ag__\u001b[39m.\u001b[39;49mif_stmt(ag__\u001b[39m.\u001b[39;49mnot_(ag__\u001b[39m.\u001b[39;49mconverted_call(ag__\u001b[39m.\u001b[39;49mconverted_call(ag__\u001b[39m.\u001b[39;49mld(\u001b[39mset\u001b[39;49m), (ag__\u001b[39m.\u001b[39;49mconverted_call(ag__\u001b[39m.\u001b[39;49mld(semantics)\u001b[39m.\u001b[39;49mkeys, (), \u001b[39mNone\u001b[39;49;00m, fscope),), \u001b[39mNone\u001b[39;49;00m, fscope)\u001b[39m.\u001b[39;49missubset, (ag__\u001b[39m.\u001b[39;49mconverted_call(ag__\u001b[39m.\u001b[39;49mld(inputs)\u001b[39m.\u001b[39;49mkeys, (), \u001b[39mNone\u001b[39;49;00m, fscope),), \u001b[39mNone\u001b[39;49;00m, fscope)), if_body, else_body, get_state, set_state, (), \u001b[39m0\u001b[39;49m)\n\u001b[1;32m     35\u001b[0m semantic_tensors \u001b[39m=\u001b[39m {}\n\u001b[1;32m     37\u001b[0m \u001b[39mdef\u001b[39;00m \u001b[39mget_state_1\u001b[39m():\n",
      "File \u001b[0;32m/tmp/__autograph_generated_file0s_ftu11.py:30\u001b[0m, in \u001b[0;36mouter_factory.<locals>.inner_factory.<locals>.tf__combine_tensors_and_semantics.<locals>.if_body\u001b[0;34m()\u001b[0m\n\u001b[1;32m     29\u001b[0m \u001b[39mdef\u001b[39;00m \u001b[39mif_body\u001b[39m():\n\u001b[0;32m---> 30\u001b[0m     \u001b[39mraise\u001b[39;00m ag__\u001b[39m.\u001b[39mconverted_call(ag__\u001b[39m.\u001b[39mld(\u001b[39mValueError\u001b[39;00m), (ag__\u001b[39m.\u001b[39mconverted_call(\u001b[39m'\u001b[39m\u001b[39msemantics is not a subset of inputs (inputs=\u001b[39m\u001b[39m{}\u001b[39;00m\u001b[39m vs semantics=\u001b[39m\u001b[39m{}\u001b[39;00m\u001b[39m).\u001b[39m\u001b[39m'\u001b[39m\u001b[39m.\u001b[39mformat, (ag__\u001b[39m.\u001b[39mconverted_call(ag__\u001b[39m.\u001b[39mld(inputs)\u001b[39m.\u001b[39mkeys, (), \u001b[39mNone\u001b[39;00m, fscope), ag__\u001b[39m.\u001b[39mconverted_call(ag__\u001b[39m.\u001b[39mld(semantics)\u001b[39m.\u001b[39mkeys, (), \u001b[39mNone\u001b[39;00m, fscope)), \u001b[39mNone\u001b[39;00m, fscope),), \u001b[39mNone\u001b[39;00m, fscope)\n",
      "\u001b[0;31mValueError\u001b[0m: in user code:\n\n    File \"/home/barrettjason/.local/lib/python3.10/site-packages/tensorflow_decision_forests/keras/core_inference.py\", line 458, in run_step  *\n        outputs = model.predict_step(data)\n    File \"/home/barrettjason/.local/lib/python3.10/site-packages/keras/engine/training.py\", line 2111, in predict_step  **\n        return self(x, training=False)\n    File \"/home/barrettjason/.local/lib/python3.10/site-packages/keras/utils/traceback_utils.py\", line 70, in error_handler\n        raise e.with_traceback(filtered_tb) from None\n    File \"/tmp/__autograph_generated_filev2dex50e.py\", line 104, in tf__call\n        ag__.if_stmt(ag__.ld(self)._semantics is None, if_body_2, else_body_2, get_state_3, set_state_3, ('do_return', 'retval_'), 2)\n    File \"/tmp/__autograph_generated_filev2dex50e.py\", line 43, in else_body_2\n        normalized_inputs = ag__.converted_call(ag__.ld(self)._build_normalized_inputs, (ag__.ld(inputs),), None, fscope)\n    File \"/tmp/__autograph_generated_file3n30b4ge.py\", line 98, in tf___build_normalized_inputs\n        semantic_inputs = ag__.converted_call(ag__.ld(tf_core).combine_tensors_and_semantics, (ag__.ld(inputs), ag__.ld(self)._semantics), None, fscope)\n    File \"/tmp/__autograph_generated_file0s_ftu11.py\", line 34, in tf__combine_tensors_and_semantics\n        ag__.if_stmt(ag__.not_(ag__.converted_call(ag__.converted_call(ag__.ld(set), (ag__.converted_call(ag__.ld(semantics).keys, (), None, fscope),), None, fscope).issubset, (ag__.converted_call(ag__.ld(inputs).keys, (), None, fscope),), None, fscope)), if_body, else_body, get_state, set_state, (), 0)\n    File \"/tmp/__autograph_generated_file0s_ftu11.py\", line 30, in if_body\n        raise ag__.converted_call(ag__.ld(ValueError), (ag__.converted_call('semantics is not a subset of inputs (inputs={} vs semantics={}).'.format, (ag__.converted_call(ag__.ld(inputs).keys, (), None, fscope), ag__.converted_call(ag__.ld(semantics).keys, (), None, fscope)), None, fscope),), None, fscope)\n\n    ValueError: Exception encountered when calling layer 'random_forest_model' (type RandomForestModel).\n    \n    in user code:\n    \n        File \"/home/barrettjason/.local/lib/python3.10/site-packages/tensorflow_decision_forests/keras/core_inference.py\", line 644, in call  *\n            normalized_inputs = self._build_normalized_inputs(inputs)\n        File \"/home/barrettjason/.local/lib/python3.10/site-packages/tensorflow_decision_forests/keras/core_inference.py\", line 603, in _build_normalized_inputs  *\n            semantic_inputs = tf_core.combine_tensors_and_semantics(\n        File \"/home/barrettjason/.local/lib/python3.10/site-packages/tensorflow_decision_forests/tensorflow/core_inference.py\", line 431, in combine_tensors_and_semantics  *\n            raise ValueError(\"semantics is not a subset of inputs \"\n    \n        ValueError: semantics is not a subset of inputs (inputs=dict_keys(['Property_Type/Category', 'Bed_x', 'Bath_x', 'Car_x', 'LandSize', 'BuildingArea', 'SalePrice', 'SaleType', 'LandUse1', 'Zoning', 'DevelopmentZone', 'ValuationType', 'ValuationAmount', 'YearBuilt', 'YrSaleDate', 'MthSaleDate', 'YrValuationDate', 'MthValuationDate']) vs semantics=dict_keys(['Property_Type/Category', 'Bed_x', 'Bath_x', 'Car_x', 'LandSize', 'BuildingArea', 'SaleType', 'LandUse1', 'Zoning', 'DevelopmentZone', 'ValuationType', 'ValuationAmount', 'rppid', 'YearBuilt', 'YrSaleDate', 'MthSaleDate', 'YrValuationDate', 'MthValuationDate'])).\n    \n    \n    Call arguments received by layer 'random_forest_model' (type RandomForestModel):\n      • inputs={'Property_Type/Category': 'tf.Tensor(shape=(None,), dtype=string)', 'Bed_x': 'tf.Tensor(shape=(None,), dtype=float32)', 'Bath_x': 'tf.Tensor(shape=(None,), dtype=float32)', 'Car_x': 'tf.Tensor(shape=(None,), dtype=float32)', 'LandSize': 'tf.Tensor(shape=(None,), dtype=int64)', 'BuildingArea': 'tf.Tensor(shape=(None,), dtype=float32)', 'SalePrice': 'tf.Tensor(shape=(None,), dtype=float32)', 'SaleType': 'tf.Tensor(shape=(None,), dtype=string)', 'LandUse1': 'tf.Tensor(shape=(None,), dtype=string)', 'Zoning': 'tf.Tensor(shape=(None,), dtype=string)', 'DevelopmentZone': 'tf.Tensor(shape=(None,), dtype=string)', 'ValuationType': 'tf.Tensor(shape=(None,), dtype=string)', 'ValuationAmount': 'tf.Tensor(shape=(None,), dtype=float32)', 'YearBuilt': 'tf.Tensor(shape=(None,), dtype=string)', 'YrSaleDate': 'tf.Tensor(shape=(None,), dtype=float32)', 'MthSaleDate': 'tf.Tensor(shape=(None,), dtype=float32)', 'YrValuationDate': 'tf.Tensor(shape=(None,), dtype=float32)', 'MthValuationDate': 'tf.Tensor(shape=(None,), dtype=float32)'}\n      • training=False\n"
     ]
    }
   ],
   "source": [
    "testdata_df['PredPrice'] = \"\"\n",
    "\n",
    "# Delete and re-format any data in the testdata that are not used in the model.\n",
    "# In specific columns, zeros need to be converted to NaN, as do blanks.\n",
    "'''\n",
    " 0   Property Type/Category  1353 non-null   object \n",
    " 1   Bed_x                   1190 non-null   float64\n",
    " 2   Bath_x                  1170 non-null   float64\n",
    " 3   Car_x                   1161 non-null   float64\n",
    " 4   LandSize                1353 non-null   int64  \n",
    " 5   BuildingArea            599 non-null    float64\n",
    " 6   SalePrice               1353 non-null   float64\n",
    " 7   SaleType                1353 non-null   object \n",
    " 8   LandUse1                1352 non-null   object \n",
    " 9   Zoning                  1342 non-null   object \n",
    " 10  DevelopmentZone         1337 non-null   object \n",
    " 11  ValuationType           1353 non-null   object \n",
    " 12  ValuationAmount         828 non-null    float64\n",
    " 13  rppid                   1353 non-null   object \n",
    " 14  YearBuilt               1069 non-null   object \n",
    " 15  YrSaleDate              1353 non-null   float64\n",
    " 16  MthSaleDate             1353 non-null   float64\n",
    " 17  YrValuationDate         828 non-null    float64\n",
    " 18  MthValuationDate        828 non-null    float64\n",
    " 19  PredPrice               1353 non-null   object\n",
    "'''\n",
    "\n",
    "# File operations\n",
    "testdata_df.to_csv('input/prediction1.csv', index=False)\n",
    "test_file_path = 'input/prediction1.csv'\n",
    "test_data = testdata_df\n",
    "\n",
    "ids = test_data['rppid']\n",
    "\n",
    "label= 'PredPrice'\n",
    "test_ds = tfdf.keras.pd_dataframe_to_tf_dataset(\n",
    "    test_data,\n",
    "    label=label,\n",
    "    task = tfdf.keras.Task.REGRESSION)\n",
    "\n",
    "preds = rf.predict(test_ds)\n",
    "output = pd.DataFrame({'Rppid': ids,\n",
    "                       'SalePriceP': preds.squeeze()})\n",
    "\n",
    "output.head()\n"
   ]
  },
  {
   "cell_type": "code",
   "execution_count": null,
   "id": "29df31a5",
   "metadata": {
    "execution": {
     "iopub.execute_input": "2023-03-17T11:57:41.389586Z",
     "iopub.status.busy": "2023-03-17T11:57:41.388764Z",
     "iopub.status.idle": "2023-03-17T11:57:41.742011Z",
     "shell.execute_reply": "2023-03-17T11:57:41.740812Z"
    },
    "id": "0wALPJtE416s",
    "papermill": {
     "duration": 0.37697,
     "end_time": "2023-03-17T11:57:41.744744",
     "exception": false,
     "start_time": "2023-03-17T11:57:41.367774",
     "status": "completed"
    },
    "tags": []
   },
   "outputs": [],
   "source": [
    "# sample_submission_df = pd.read_csv('../input/house-prices-advanced-regression-techniques/sample_submission.csv')\n",
    "\n",
    "sample_submission_df = dataset_df\n",
    "sample_submission_df['SalePricePred'] = rf.predict(test_ds)\n",
    "sample_submission_df.to_csv('prediction1.csv', index=False)\n",
    "sample_submission_df.head()"
   ]
  },
  {
   "attachments": {},
   "cell_type": "markdown",
   "id": "1a070fb7",
   "metadata": {},
   "source": [
    "# Future enhancements\n",
    "\n",
    "Consider if the following enhance predictive power:\n",
    "* Postcode of vendor and purchaser\n",
    "* State of vendor and purchaser\n",
    "* Agent or agency details involved in the transaction\n",
    "* Get ALL historical sales, not just the last 3 years\n",
    "* Blend other datasets, for example GeoNAT"
   ]
  }
 ],
 "metadata": {
  "kernelspec": {
   "display_name": "Python 3",
   "language": "python",
   "name": "python3"
  },
  "language_info": {
   "codemirror_mode": {
    "name": "ipython",
    "version": 3
   },
   "file_extension": ".py",
   "mimetype": "text/x-python",
   "name": "python",
   "nbconvert_exporter": "python",
   "pygments_lexer": "ipython3",
   "version": "3.10.6"
  },
  "papermill": {
   "default_parameters": {},
   "duration": 47.69971,
   "end_time": "2023-03-17T11:57:45.119031",
   "environment_variables": {},
   "exception": null,
   "input_path": "__notebook__.ipynb",
   "output_path": "__notebook__.ipynb",
   "parameters": {},
   "start_time": "2023-03-17T11:56:57.419321",
   "version": "2.4.0"
  }
 },
 "nbformat": 4,
 "nbformat_minor": 5
}
